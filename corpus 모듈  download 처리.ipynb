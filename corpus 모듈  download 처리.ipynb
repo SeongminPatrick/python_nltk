{
 "cells": [
  {
   "cell_type": "code",
   "execution_count": 1,
   "metadata": {
    "collapsed": true
   },
   "outputs": [],
   "source": [
    "import nltk"
   ]
  },
  {
   "cell_type": "markdown",
   "metadata": {},
   "source": [
    "# corpus 자료 다운 로드하기\n",
    "\n",
    "     corpus 자료는 설치시에 제공되는 것이 아니라 download 명령으로 사용자가 다운로드 받아야 한다."
   ]
  },
  {
   "cell_type": "code",
   "execution_count": 2,
   "metadata": {},
   "outputs": [
    {
     "name": "stdout",
     "output_type": "stream",
     "text": [
      "[nltk_data] Downloading package averaged_perceptron_tagger to\n",
      "[nltk_data]     /Users/dahlmoon/nltk_data...\n",
      "[nltk_data]   Package averaged_perceptron_tagger is already up-to-\n",
      "[nltk_data]       date!\n",
      "[nltk_data] Downloading package gutenberg to\n",
      "[nltk_data]     /Users/dahlmoon/nltk_data...\n",
      "[nltk_data]   Package gutenberg is already up-to-date!\n",
      "[nltk_data] Downloading package punkt to /Users/dahlmoon/nltk_data...\n",
      "[nltk_data]   Package punkt is already up-to-date!\n",
      "[nltk_data] Downloading package reuters to\n",
      "[nltk_data]     /Users/dahlmoon/nltk_data...\n",
      "[nltk_data]   Package reuters is already up-to-date!\n",
      "[nltk_data] Downloading package stopwords to\n",
      "[nltk_data]     /Users/dahlmoon/nltk_data...\n",
      "[nltk_data]   Package stopwords is already up-to-date!\n",
      "[nltk_data] Error loading taggers: Package 'taggers' not found in\n",
      "[nltk_data]     index\n",
      "[nltk_data] Downloading package webtext to\n",
      "[nltk_data]     /Users/dahlmoon/nltk_data...\n",
      "[nltk_data]   Package webtext is already up-to-date!\n",
      "[nltk_data] Downloading package wordnet to\n",
      "[nltk_data]     /Users/dahlmoon/nltk_data...\n",
      "[nltk_data]   Package wordnet is already up-to-date!\n"
     ]
    },
    {
     "data": {
      "text/plain": [
       "True"
      ]
     },
     "execution_count": 2,
     "metadata": {},
     "output_type": "execute_result"
    }
   ],
   "source": [
    "nltk.download('averaged_perceptron_tagger')\n",
    "nltk.download(\"gutenberg\")\n",
    "nltk.download('punkt')\n",
    "nltk.download('reuters')\n",
    "nltk.download(\"stopwords\")\n",
    "nltk.download(\"taggers\")\n",
    "nltk.download(\"webtext\")\n",
    "nltk.download(\"wordnet\")"
   ]
  },
  {
   "cell_type": "code",
   "execution_count": 8,
   "metadata": {},
   "outputs": [
    {
     "name": "stdout",
     "output_type": "stream",
     "text": [
      "[nltk_data] Downloading package maxent_treebank_pos_tagger to\n",
      "[nltk_data]     /Users/dahlmoon/nltk_data...\n",
      "[nltk_data]   Package maxent_treebank_pos_tagger is already up-to-\n",
      "[nltk_data]       date!\n"
     ]
    },
    {
     "data": {
      "text/plain": [
       "True"
      ]
     },
     "execution_count": 8,
     "metadata": {},
     "output_type": "execute_result"
    }
   ],
   "source": [
    "nltk.download('maxent_treebank_pos_tagger')"
   ]
  },
  {
   "cell_type": "code",
   "execution_count": 9,
   "metadata": {},
   "outputs": [
    {
     "name": "stdout",
     "output_type": "stream",
     "text": [
      "Collecting gensim\n",
      "  Downloading gensim-2.3.0-cp36-cp36m-macosx_10_6_intel.macosx_10_9_intel.macosx_10_9_x86_64.macosx_10_10_intel.macosx_10_10_x86_64.whl (6.4MB)\n",
      "\u001b[K    100% |████████████████████████████████| 6.4MB 135kB/s ta 0:00:01\n",
      "\u001b[?25hRequirement already up-to-date: six>=1.5.0 in /Users/dahlmoon/anaconda/lib/python3.6/site-packages (from gensim)\n",
      "Collecting scipy>=0.18.1 (from gensim)\n",
      "  Downloading scipy-0.19.1-cp36-cp36m-macosx_10_6_intel.macosx_10_9_intel.macosx_10_9_x86_64.macosx_10_10_intel.macosx_10_10_x86_64.whl (16.2MB)\n",
      "\u001b[K    100% |████████████████████████████████| 16.2MB 54kB/s eta 0:00:01\n",
      "\u001b[?25hRequirement already up-to-date: numpy>=1.11.3 in /Users/dahlmoon/anaconda/lib/python3.6/site-packages (from gensim)\n",
      "Collecting smart-open>=1.2.1 (from gensim)\n",
      "  Downloading smart_open-1.5.3.tar.gz\n",
      "Collecting boto>=2.32 (from smart-open>=1.2.1->gensim)\n",
      "  Downloading boto-2.48.0-py2.py3-none-any.whl (1.4MB)\n",
      "\u001b[K    100% |████████████████████████████████| 1.4MB 520kB/s ta 0:00:01\n",
      "\u001b[?25hCollecting bz2file (from smart-open>=1.2.1->gensim)\n",
      "  Downloading bz2file-0.98.tar.gz\n",
      "Collecting requests (from smart-open>=1.2.1->gensim)\n",
      "  Downloading requests-2.18.3-py2.py3-none-any.whl (88kB)\n",
      "\u001b[K    100% |████████████████████████████████| 92kB 1.9MB/s ta 0:00:011\n",
      "\u001b[?25hRequirement already up-to-date: idna<2.6,>=2.5 in /Users/dahlmoon/anaconda/lib/python3.6/site-packages (from requests->smart-open>=1.2.1->gensim)\n",
      "Collecting urllib3<1.23,>=1.21.1 (from requests->smart-open>=1.2.1->gensim)\n",
      "  Downloading urllib3-1.22-py2.py3-none-any.whl (132kB)\n",
      "\u001b[K    100% |████████████████████████████████| 133kB 1.4MB/s ta 0:00:01\n",
      "\u001b[?25hCollecting chardet<3.1.0,>=3.0.2 (from requests->smart-open>=1.2.1->gensim)\n",
      "  Using cached chardet-3.0.4-py2.py3-none-any.whl\n",
      "Collecting certifi>=2017.4.17 (from requests->smart-open>=1.2.1->gensim)\n",
      "  Downloading certifi-2017.7.27.1-py2.py3-none-any.whl (349kB)\n",
      "\u001b[K    100% |████████████████████████████████| 358kB 1.1MB/s ta 0:00:01\n",
      "\u001b[?25hBuilding wheels for collected packages: smart-open, bz2file\n",
      "  Running setup.py bdist_wheel for smart-open ... \u001b[?25ldone\n",
      "\u001b[?25h  Stored in directory: /Users/dahlmoon/Library/Caches/pip/wheels/b0/81/ad/856aade935fceaab491a800ec4de58edb8642afa4c4ba91a00\n",
      "  Running setup.py bdist_wheel for bz2file ... \u001b[?25ldone\n",
      "\u001b[?25h  Stored in directory: /Users/dahlmoon/Library/Caches/pip/wheels/31/9c/20/996d65ca104cbca940b1b053299b68459391c01c774d073126\n",
      "Successfully built smart-open bz2file\n",
      "Installing collected packages: scipy, boto, bz2file, urllib3, chardet, certifi, requests, smart-open, gensim\n",
      "  Found existing installation: scipy 0.19.0\n",
      "    Uninstalling scipy-0.19.0:\n",
      "      Successfully uninstalled scipy-0.19.0\n",
      "  Found existing installation: boto 2.46.1\n",
      "\u001b[31m    DEPRECATION: Uninstalling a distutils installed project (boto) has been deprecated and will be removed in a future version. This is due to the fact that uninstalling a distutils project will only partially uninstall the project.\u001b[0m\n",
      "    Uninstalling boto-2.46.1:\n",
      "      Successfully uninstalled boto-2.46.1\n",
      "  Found existing installation: chardet 3.0.3\n",
      "    Uninstalling chardet-3.0.3:\n",
      "      Successfully uninstalled chardet-3.0.3\n",
      "  Found existing installation: requests 2.14.2\n",
      "    Uninstalling requests-2.14.2:\n",
      "      Successfully uninstalled requests-2.14.2\n",
      "Successfully installed boto-2.48.0 bz2file-0.98 certifi-2017.7.27.1 chardet-3.0.4 gensim-2.3.0 requests-2.18.3 scipy-0.19.1 smart-open-1.5.3 urllib3-1.22\n"
     ]
    }
   ],
   "source": [
    "!pip install -U gensim"
   ]
  },
  {
   "cell_type": "markdown",
   "metadata": {},
   "source": [
    "## 코퍼스 내의 특정 이름에 대한 파일을 조회"
   ]
  },
  {
   "cell_type": "code",
   "execution_count": 3,
   "metadata": {},
   "outputs": [
    {
     "data": {
      "text/plain": [
       "['austen-emma.txt',\n",
       " 'austen-persuasion.txt',\n",
       " 'austen-sense.txt',\n",
       " 'bible-kjv.txt',\n",
       " 'blake-poems.txt',\n",
       " 'bryant-stories.txt',\n",
       " 'burgess-busterbrown.txt',\n",
       " 'carroll-alice.txt',\n",
       " 'chesterton-ball.txt',\n",
       " 'chesterton-brown.txt',\n",
       " 'chesterton-thursday.txt',\n",
       " 'edgeworth-parents.txt',\n",
       " 'melville-moby_dick.txt',\n",
       " 'milton-paradise.txt',\n",
       " 'shakespeare-caesar.txt',\n",
       " 'shakespeare-hamlet.txt',\n",
       " 'shakespeare-macbeth.txt',\n",
       " 'whitman-leaves.txt']"
      ]
     },
     "execution_count": 3,
     "metadata": {},
     "output_type": "execute_result"
    }
   ],
   "source": [
    "nltk.corpus.gutenberg.fileids()"
   ]
  },
  {
   "cell_type": "markdown",
   "metadata": {},
   "source": [
    "## 기본 문서에 대한 조회"
   ]
  },
  {
   "cell_type": "code",
   "execution_count": 4,
   "metadata": {},
   "outputs": [
    {
     "name": "stdout",
     "output_type": "stream",
     "text": [
      "[Emma by Jane Austen 1816]\n",
      "\n",
      "VOLUME I\n",
      "\n",
      "CHAPTER I\n",
      "\n",
      "\n",
      "Emma Woodhouse, handsome, clever, and rich, with a comfortable home\n",
      "and happy disposition, seemed to unite some of the best blessings\n",
      "of existence; and had lived nearly twenty-one years in the world\n",
      "with very little to distress or vex her.\n",
      "\n",
      "She was the youngest of the two daughters of a most affectionate,\n",
      "indulgent father; and had, in consequence of her sister's marriage,\n",
      "been mistress of his house from a very early period.  Her mother\n",
      "had died too long ago for her to have more than an indistinct\n",
      "remembrance of her caresses; and her place had been supplied\n",
      "by an excellent woman as governess, who had fallen little short\n",
      "of a mother in affection.\n",
      "\n",
      "Sixteen years had Miss Taylor been in Mr. Woodhouse's family,\n",
      "less as a governess than a friend, very fond of both daughters,\n",
      "but particularly of Emma.  Between _them_ it was more the intimacy\n",
      "of sisters.  Even before Miss Taylor had ceased to hold the nominal\n",
      "office of governess, the mildness of her temper had hardly allowed\n",
      "her to impose any restraint; and the shadow of authority being\n",
      "now long passed away, they had been living together as friend and\n",
      "friend very mutually attached, and Emma doing just what she liked;\n",
      "highly esteeming Miss Taylor's judgment, but directed chiefly by\n",
      "her own.\n",
      "\n"
     ]
    }
   ],
   "source": [
    "emma_raw = nltk.corpus.gutenberg.raw(\"austen-emma.txt\")\n",
    "print(emma_raw[:1302])"
   ]
  },
  {
   "cell_type": "markdown",
   "metadata": {},
   "source": [
    "## 기본 문서에 대한 토큰 처리"
   ]
  },
  {
   "cell_type": "code",
   "execution_count": 5,
   "metadata": {},
   "outputs": [
    {
     "data": {
      "text/plain": [
       "['Emma',\n",
       " 'Woodhouse',\n",
       " ',',\n",
       " 'handsome',\n",
       " ',',\n",
       " 'clever',\n",
       " ',',\n",
       " 'and',\n",
       " 'rich',\n",
       " ',',\n",
       " 'with',\n",
       " 'a']"
      ]
     },
     "execution_count": 5,
     "metadata": {},
     "output_type": "execute_result"
    }
   ],
   "source": [
    "from nltk.tokenize import word_tokenize\n",
    "word_tokenize(emma_raw[50:100])"
   ]
  },
  {
   "cell_type": "markdown",
   "metadata": {},
   "source": [
    "## 정규표현식으로 토큰 처리 "
   ]
  },
  {
   "cell_type": "code",
   "execution_count": 6,
   "metadata": {},
   "outputs": [
    {
     "data": {
      "text/plain": [
       "['Emma', 'Woodhouse', 'handsome', 'clever', 'and', 'rich', 'with', 'a']"
      ]
     },
     "execution_count": 6,
     "metadata": {},
     "output_type": "execute_result"
    }
   ],
   "source": [
    "from nltk.tokenize import RegexpTokenizer\n",
    "t = RegexpTokenizer(\"[\\w]+\")\n",
    "t.tokenize(emma_raw[50:100])"
   ]
  },
  {
   "cell_type": "markdown",
   "metadata": {},
   "source": [
    "## 문장을 기준으로 토큰 처리"
   ]
  },
  {
   "cell_type": "code",
   "execution_count": 7,
   "metadata": {},
   "outputs": [
    {
     "name": "stdout",
     "output_type": "stream",
     "text": [
      "['[Emma by Jane Austen 1816]\\n\\nVOLUME I\\n\\nCHAPTER I\\n\\n\\nEmma Woodhouse, handsome, clever, and rich, with a comfortable home\\nand happy disposition, seemed to unite some of the best blessings\\nof existence; and had lived nearly twenty-one years in the world\\nwith very little to distress or vex her.', \"She was the youngest of the two daughters of a most affectionate,\\nindulgent father; and had, in consequence of her sister's marriage,\\nbeen mistress of his house from a very early period.\", 'Her mother\\nhad died too long ago for her to have more than an indistinct\\nremembrance of her caresses; and her place had been supplied\\nby an excellent woman as governess, who had fallen little short\\nof a mother in affection.', \"Sixteen years had Miss Taylor been in Mr. Woodhouse's family,\\nless as a governess than a friend, very fond of both daughters,\\nbut particularly of Emma.\", 'Between _them_ it was more the intimacy\\nof sisters.', 'Even before Miss Taylor had ceased to hold the nominal\\noffice of governess, the mildness o']\n"
     ]
    }
   ],
   "source": [
    "from nltk.tokenize import sent_tokenize\n",
    "print(sent_tokenize(emma_raw[:1000]))"
   ]
  },
  {
   "cell_type": "markdown",
   "metadata": {},
   "source": [
    "##  정규표현식 함수를 이용해서  단어별 토큰 처리"
   ]
  },
  {
   "cell_type": "code",
   "execution_count": 11,
   "metadata": {},
   "outputs": [
    {
     "name": "stdout",
     "output_type": "stream",
     "text": [
      "[Emma by Jane Austen 1816]\n",
      "\n",
      "VOLUME I\n",
      "\n",
      "CHAPTER I\n",
      "\n",
      "\n",
      "Emma Woodhouse, handsome, clever, and rich, with a\n"
     ]
    }
   ],
   "source": [
    "from nltk.corpus import gutenberg   # Docs from project gutenberg.org\n",
    "files_en = gutenberg.fileids()      # Get file ids\n",
    "doc_en = gutenberg.open('austen-emma.txt').read()\n",
    "\n",
    "print(doc_en[:100])"
   ]
  },
  {
   "cell_type": "markdown",
   "metadata": {},
   "source": [
    "### 토큰화 처리"
   ]
  },
  {
   "cell_type": "code",
   "execution_count": 12,
   "metadata": {
    "collapsed": true
   },
   "outputs": [],
   "source": [
    "from nltk import regexp_tokenize\n",
    "pattern = r'''(?x) ([A-Z]\\.)+ | \\w+(-\\w+)* | \\$?\\d+(\\.\\d+)?%? | \\.\\.\\. | [][.,;\"'?():-_`]'''\n",
    "tokens_en = regexp_tokenize(doc_en, pattern)"
   ]
  },
  {
   "cell_type": "markdown",
   "metadata": {},
   "source": [
    "### 토큰화 처리된 결과 load \n"
   ]
  },
  {
   "cell_type": "code",
   "execution_count": 14,
   "metadata": {
    "collapsed": true
   },
   "outputs": [],
   "source": [
    "import nltk\n",
    "en = nltk.Text(tokens_en)"
   ]
  },
  {
   "cell_type": "code",
   "execution_count": 15,
   "metadata": {},
   "outputs": [
    {
     "name": "stdout",
     "output_type": "stream",
     "text": [
      "191061\n",
      "232\n"
     ]
    },
    {
     "data": {
      "text/plain": [
       "FreqDist({('', '', ''): 190496,\n",
       "          ('', '-Churchill', ''): 1,\n",
       "          ('', '-Hart_', ''): 1,\n",
       "          ('', '-JULY', ''): 1,\n",
       "          ('', '-Mill', ''): 7,\n",
       "          ('', '-Weston', ''): 1,\n",
       "          ('', '-able', ''): 1,\n",
       "          ('', '-aches', ''): 1,\n",
       "          ('', '-all', ''): 1,\n",
       "          ('', '-approbation', ''): 2,\n",
       "          ('', '-arm', ''): 1,\n",
       "          ('', '-arrangement', ''): 1,\n",
       "          ('', '-ashamed', ''): 1,\n",
       "          ('', '-assorted', ''): 1,\n",
       "          ('', '-back', ''): 1,\n",
       "          ('', '-baits', ''): 1,\n",
       "          ('', '-baked', ''): 1,\n",
       "          ('', '-bathing', ''): 2,\n",
       "          ('', '-be', ''): 1,\n",
       "          ('', '-beds', ''): 3,\n",
       "          ('', '-beer', ''): 4,\n",
       "          ('', '-behaved', ''): 2,\n",
       "          ('', '-bestowed', ''): 1,\n",
       "          ('', '-betweens', ''): 1,\n",
       "          ('', '-blanche', ''): 1,\n",
       "          ('', '-boarder', ''): 3,\n",
       "          ('', '-book', ''): 2,\n",
       "          ('', '-boot', ''): 1,\n",
       "          ('', '-boy', ''): 1,\n",
       "          ('', '-bred', ''): 3,\n",
       "          ('', '-breeding', ''): 2,\n",
       "          ('', '-built', ''): 1,\n",
       "          ('', '-by', ''): 2,\n",
       "          ('', '-bye', ''): 3,\n",
       "          ('', '-cake', ''): 5,\n",
       "          ('', '-cakes', ''): 1,\n",
       "          ('', '-candles', ''): 1,\n",
       "          ('', '-careful', ''): 1,\n",
       "          ('', '-chamber', ''): 1,\n",
       "          ('', '-circle', ''): 1,\n",
       "          ('', '-club', ''): 1,\n",
       "          ('', '-colours', ''): 2,\n",
       "          ('', '-command', ''): 5,\n",
       "          ('', '-company', ''): 1,\n",
       "          ('', '-consequence', ''): 1,\n",
       "          ('', '-contentment', ''): 1,\n",
       "          ('', '-controul', ''): 1,\n",
       "          ('', '-craig', ''): 1,\n",
       "          ('', '-curtain', ''): 1,\n",
       "          ('', '-dance', ''): 1,\n",
       "          ('', '-dances', ''): 1,\n",
       "          ('', '-day', ''): 31,\n",
       "          ('', '-deceived', ''): 1,\n",
       "          ('', '-declined', ''): 1,\n",
       "          ('', '-denial', ''): 1,\n",
       "          ('', '-denying', ''): 1,\n",
       "          ('', '-desk', ''): 2,\n",
       "          ('', '-disposed', ''): 1,\n",
       "          ('', '-doing', ''): 1,\n",
       "          ('', '-door', ''): 3,\n",
       "          ('', '-draper', ''): 3,\n",
       "          ('', '-dumpling', ''): 1,\n",
       "          ('', '-dumplings', ''): 1,\n",
       "          ('', '-dyed', ''): 1,\n",
       "          ('', '-east', ''): 1,\n",
       "          ('', '-eight', ''): 1,\n",
       "          ('', '-equipped', ''): 1,\n",
       "          ('', '-errantry', ''): 1,\n",
       "          ('', '-estate', ''): 1,\n",
       "          ('', '-examination', ''): 1,\n",
       "          ('', '-existence', ''): 1,\n",
       "          ('', '-expectant', ''): 1,\n",
       "          ('', '-fact', ''): 1,\n",
       "          ('', '-fame', ''): 1,\n",
       "          ('', '-farm', ''): 1,\n",
       "          ('', '-farmer', ''): 1,\n",
       "          ('', '-fashioned', ''): 2,\n",
       "          ('', '-father', ''): 1,\n",
       "          ('', '-felt', ''): 1,\n",
       "          ('', '-fever', ''): 1,\n",
       "          ('', '-five', ''): 2,\n",
       "          ('', '-four', ''): 3,\n",
       "          ('', '-fresco', ''): 1,\n",
       "          ('', '-furnished', ''): 1,\n",
       "          ('', '-gammon', ''): 1,\n",
       "          ('', '-gate', ''): 3,\n",
       "          ('', '-gentlemen', ''): 1,\n",
       "          ('', '-girl', ''): 1,\n",
       "          ('', '-glance', ''): 1,\n",
       "          ('', '-glass', ''): 1,\n",
       "          ('', '-grown', ''): 1,\n",
       "          ('', '-hand', ''): 1,\n",
       "          ('', '-headed', ''): 2,\n",
       "          ('', '-health', ''): 4,\n",
       "          ('', '-hearted', ''): 12,\n",
       "          ('', '-heartedness', ''): 1,\n",
       "          ('', '-horse', ''): 1,\n",
       "          ('', '-horses', ''): 2,\n",
       "          ('', '-hour', ''): 6,\n",
       "          ('', '-house', ''): 3,\n",
       "          ('', '-humour', ''): 7,\n",
       "          ('', '-humoured', ''): 6,\n",
       "          ('', '-humouredly', ''): 2,\n",
       "          ('', '-important', ''): 1,\n",
       "          ('', '-informed', ''): 3,\n",
       "          ('', '-ing', ''): 1,\n",
       "          ('', '-interest', ''): 1,\n",
       "          ('', '-judged', ''): 2,\n",
       "          ('', '-judging', ''): 3,\n",
       "          ('', '-judgment', ''): 1,\n",
       "          ('', '-known', ''): 2,\n",
       "          ('', '-land', ''): 1,\n",
       "          ('', '-landau', ''): 7,\n",
       "          ('', '-lashes', ''): 2,\n",
       "          ('', '-law', ''): 12,\n",
       "          ('', '-length', ''): 2,\n",
       "          ('', '-lengths', ''): 2,\n",
       "          ('', '-like', ''): 3,\n",
       "          ('', '-looking', ''): 7,\n",
       "          ('', '-luck', ''): 1,\n",
       "          ('', '-ma', ''): 1,\n",
       "          ('', '-maids', ''): 1,\n",
       "          ('', '-making', ''): 6,\n",
       "          ('', '-mama', ''): 1,\n",
       "          ('', '-master', ''): 1,\n",
       "          ('', '-meaning', ''): 4,\n",
       "          ('', '-minded', ''): 3,\n",
       "          ('', '-morrow', ''): 27,\n",
       "          ('', '-morrows', ''): 2,\n",
       "          ('', '-mourners', ''): 1,\n",
       "          ('', '-moving', ''): 1,\n",
       "          ('', '-nature', ''): 4,\n",
       "          ('', '-natured', ''): 6,\n",
       "          ('', '-night', ''): 1,\n",
       "          ('', '-nights', ''): 1,\n",
       "          ('', '-nine', ''): 1,\n",
       "          ('', '-nothing', ''): 1,\n",
       "          ('', '-off', ''): 1,\n",
       "          ('', '-office', ''): 8,\n",
       "          ('', '-on', ''): 1,\n",
       "          ('', '-one', ''): 1,\n",
       "          ('', '-out', ''): 4,\n",
       "          ('', '-pace', ''): 1,\n",
       "          ('', '-pan', ''): 1,\n",
       "          ('', '-parlour', ''): 1,\n",
       "          ('', '-parties', ''): 6,\n",
       "          ('', '-party', ''): 2,\n",
       "          ('', '-people', ''): 1,\n",
       "          ('', '-pieces', ''): 1,\n",
       "          ('', '-pies', ''): 1,\n",
       "          ('', '-place', ''): 3,\n",
       "          ('', '-plaister', ''): 9,\n",
       "          ('', '-players', ''): 1,\n",
       "          ('', '-plot', ''): 1,\n",
       "          ('', '-ponds', ''): 1,\n",
       "          ('', '-powered', ''): 2,\n",
       "          ('', '-present', ''): 1,\n",
       "          ('', '-pressed', ''): 1,\n",
       "          ('', '-quarter', ''): 2,\n",
       "          ('', '-quarters', ''): 2,\n",
       "          ('', '-rate', ''): 6,\n",
       "          ('', '-ridden', ''): 1,\n",
       "          ('', '-ringing', ''): 1,\n",
       "          ('', '-room', ''): 34,\n",
       "          ('', '-root', ''): 1,\n",
       "          ('', '-salt', ''): 1,\n",
       "          ('', '-salted', ''): 1,\n",
       "          ('', '-satisfied', ''): 1,\n",
       "          ('', '-school', ''): 1,\n",
       "          ('', '-screen', ''): 1,\n",
       "          ('', '-second', ''): 1,\n",
       "          ('', '-seven', ''): 1,\n",
       "          ('', '-shortening', ''): 1,\n",
       "          ('', '-sighted', ''): 2,\n",
       "          ('', '-sized', ''): 4,\n",
       "          ('', '-so', ''): 1,\n",
       "          ('', '-spoken', ''): 1,\n",
       "          ('', '-standing', ''): 2,\n",
       "          ('', '-street', ''): 3,\n",
       "          ('', '-stricken', ''): 1,\n",
       "          ('', '-struck', ''): 1,\n",
       "          ('', '-sufficiency', ''): 1,\n",
       "          ('', '-syllables', ''): 1,\n",
       "          ('', '-table', ''): 3,\n",
       "          ('', '-tables', ''): 1,\n",
       "          ('', '-taking', ''): 2,\n",
       "          ('', '-tart', ''): 1,\n",
       "          ('', '-tarts', ''): 1,\n",
       "          ('', '-tattle', ''): 1,\n",
       "          ('', '-teacher', ''): 1,\n",
       "          ('', '-temper', ''): 1,\n",
       "          ('', '-tempered', ''): 9,\n",
       "          ('', '-tete', ''): 4,\n",
       "          ('', '-thirty', ''): 2,\n",
       "          ('', '-throat', ''): 1,\n",
       "          ('', '-throats', ''): 1,\n",
       "          ('', '-throw', ''): 1,\n",
       "          ('', '-tied', ''): 1,\n",
       "          ('', '-time', ''): 2,\n",
       "          ('', '-timed', ''): 1,\n",
       "          ('', '-to', ''): 1,\n",
       "          ('', '-trade', ''): 3,\n",
       "          ('', '-trees', ''): 1,\n",
       "          ('', '-trimmed', ''): 2,\n",
       "          ('', '-twenty', ''): 16,\n",
       "          ('', '-up', ''): 4,\n",
       "          ('', '-urged', ''): 1,\n",
       "          ('', '-usage', ''): 2,\n",
       "          ('', '-visit', ''): 1,\n",
       "          ('', '-visiting', ''): 1,\n",
       "          ('', '-walk', ''): 1,\n",
       "          ('', '-ware', ''): 1,\n",
       "          ('', '-way', ''): 1,\n",
       "          ('', '-whisper', ''): 2,\n",
       "          ('', '-will', ''): 14,\n",
       "          ('', '-willed', ''): 1,\n",
       "          ('', '-window', ''): 1,\n",
       "          ('', '-wink', ''): 1,\n",
       "          ('', '-work', ''): 3,\n",
       "          ('', '-written', ''): 1,\n",
       "          ('', '-yards', ''): 1,\n",
       "          ('', '-year', ''): 1,\n",
       "          ('A.', '', ''): 2,\n",
       "          ('C.', '', ''): 2,\n",
       "          ('E.', '', ''): 11,\n",
       "          ('F.', '', ''): 3,\n",
       "          ('I.', '', ''): 1,\n",
       "          ('K.', '', ''): 1,\n",
       "          ('M.', '', ''): 2,\n",
       "          ('N.', '', ''): 1,\n",
       "          ('S.', '', ''): 2,\n",
       "          ('W.', '', ''): 4})"
      ]
     },
     "execution_count": 15,
     "metadata": {},
     "output_type": "execute_result"
    }
   ],
   "source": [
    "print(len(en.tokens))       # returns number of tokens (document length)\n",
    "print(len(set(en.tokens)))  # returns number of unique tokens\n",
    "en.vocab()                  # returns frequency distribution"
   ]
  },
  {
   "cell_type": "code",
   "execution_count": 17,
   "metadata": {},
   "outputs": [
    {
     "data": {
      "image/png": "[encoded data removed]",
      "text/plain": [
       "<matplotlib.figure.Figure at 0x114538588>"
      ]
     },
     "metadata": {},
     "output_type": "display_data"
    }
   ],
   "source": [
    "en.plot(10)     # Plot sorted frequency of top 50 tokens"
   ]
  },
  {
   "cell_type": "code",
   "execution_count": null,
   "metadata": {
    "collapsed": true
   },
   "outputs": [],
   "source": []
  }
 ],
 "metadata": {
  "kernelspec": {
   "display_name": "Python 3",
   "language": "python",
   "name": "python3"
  },
  "language_info": {
   "codemirror_mode": {
    "name": "ipython",
    "version": 3
   },
   "file_extension": ".py",
   "mimetype": "text/x-python",
   "name": "python",
   "nbconvert_exporter": "python",
   "pygments_lexer": "ipython3",
   "version": "3.6.1"
  }
 },
 "nbformat": 4,
 "nbformat_minor": 2
}
