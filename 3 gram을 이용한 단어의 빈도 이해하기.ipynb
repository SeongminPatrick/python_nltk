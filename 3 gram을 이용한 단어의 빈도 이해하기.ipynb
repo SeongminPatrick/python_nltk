{
 "cells": [
  {
   "cell_type": "code",
   "execution_count": 1,
   "metadata": {
    "collapsed": true
   },
   "outputs": [],
   "source": [
    "import nltk"
   ]
  },
  {
   "cell_type": "code",
   "execution_count": 2,
   "metadata": {},
   "outputs": [
    {
     "data": {
      "text/plain": [
       "'3.2.4'"
      ]
     },
     "execution_count": 2,
     "metadata": {},
     "output_type": "execute_result"
    }
   ],
   "source": [
    "nltk.__version__"
   ]
  },
  {
   "cell_type": "markdown",
   "metadata": {},
   "source": [
    "## ngrams 함수"
   ]
  },
  {
   "cell_type": "code",
   "execution_count": 3,
   "metadata": {},
   "outputs": [
    {
     "data": {
      "text/plain": [
       "<function nltk.util.ngrams>"
      ]
     },
     "execution_count": 3,
     "metadata": {},
     "output_type": "execute_result"
    }
   ],
   "source": [
    "nltk.ngrams"
   ]
  },
  {
   "cell_type": "markdown",
   "metadata": {},
   "source": [
    "## alpino 코퍼스를 가지고 처리하기 "
   ]
  },
  {
   "cell_type": "code",
   "execution_count": 4,
   "metadata": {
    "collapsed": true
   },
   "outputs": [],
   "source": [
    "from nltk.corpus import alpino"
   ]
  },
  {
   "cell_type": "code",
   "execution_count": 8,
   "metadata": {},
   "outputs": [
    {
     "data": {
      "text/plain": [
       "<AlpinoCorpusReader in '/Users/dahlmoon/nltk_data/corpora/alpino'>"
      ]
     },
     "execution_count": 8,
     "metadata": {},
     "output_type": "execute_result"
    }
   ],
   "source": [
    "alpino"
   ]
  },
  {
   "cell_type": "code",
   "execution_count": 7,
   "metadata": {},
   "outputs": [
    {
     "data": {
      "text/plain": [
       "['alpino.xml']"
      ]
     },
     "execution_count": 7,
     "metadata": {},
     "output_type": "execute_result"
    }
   ],
   "source": [
    "alpino.fileids()"
   ]
  },
  {
   "cell_type": "markdown",
   "metadata": {},
   "source": [
    "### 문장으로 분리하기 "
   ]
  },
  {
   "cell_type": "code",
   "execution_count": 11,
   "metadata": {},
   "outputs": [
    {
     "data": {
      "text/plain": [
       "[['De',\n",
       "  'verzekeringsmaatschappijen',\n",
       "  'verhelen',\n",
       "  'niet',\n",
       "  'dat',\n",
       "  'ook',\n",
       "  'de',\n",
       "  'rentegrondslag',\n",
       "  'van',\n",
       "  'vier',\n",
       "  'procent',\n",
       "  'nog',\n",
       "  'een',\n",
       "  'ruime',\n",
       "  'marge',\n",
       "  'laat',\n",
       "  'ten',\n",
       "  'opzichte',\n",
       "  'van',\n",
       "  'de',\n",
       "  'thans',\n",
       "  'geldende',\n",
       "  'rentestand',\n",
       "  '.'],\n",
       " ['Gezien',\n",
       "  'de',\n",
       "  'lange',\n",
       "  'duur',\n",
       "  'van',\n",
       "  'vele',\n",
       "  'verzekeringscontracten',\n",
       "  'is',\n",
       "  'dit',\n",
       "  'onvermijdelijk',\n",
       "  ',',\n",
       "  'vooral',\n",
       "  'omdat',\n",
       "  'de',\n",
       "  'aard',\n",
       "  'van',\n",
       "  'deze',\n",
       "  'contracten',\n",
       "  'een',\n",
       "  'tussentijdse',\n",
       "  'premieverhoging',\n",
       "  'niet',\n",
       "  'toelaat',\n",
       "  '.']]"
      ]
     },
     "execution_count": 11,
     "metadata": {},
     "output_type": "execute_result"
    }
   ],
   "source": [
    "alpino.sents()[:2]"
   ]
  },
  {
   "cell_type": "markdown",
   "metadata": {},
   "source": [
    "### 단어로 분리하기 "
   ]
  },
  {
   "cell_type": "code",
   "execution_count": 12,
   "metadata": {},
   "outputs": [
    {
     "data": {
      "text/plain": [
       "['De',\n",
       " 'verzekeringsmaatschappijen',\n",
       " 'verhelen',\n",
       " 'niet',\n",
       " 'dat',\n",
       " 'ook',\n",
       " 'de',\n",
       " 'rentegrondslag',\n",
       " 'van',\n",
       " 'vier',\n",
       " 'procent',\n",
       " 'nog',\n",
       " 'een',\n",
       " 'ruime',\n",
       " 'marge',\n",
       " 'laat',\n",
       " 'ten',\n",
       " 'opzichte',\n",
       " 'van',\n",
       " 'de']"
      ]
     },
     "execution_count": 12,
     "metadata": {},
     "output_type": "execute_result"
    }
   ],
   "source": [
    "alpino.words()[:20]"
   ]
  },
  {
   "cell_type": "markdown",
   "metadata": {},
   "source": [
    "### 유니그램으로 처리하기 "
   ]
  },
  {
   "cell_type": "code",
   "execution_count": 15,
   "metadata": {},
   "outputs": [
    {
     "name": "stdout",
     "output_type": "stream",
     "text": [
      "<generator object ngrams at 0x10e4b9620>\n"
     ]
    }
   ],
   "source": [
    "unigrams = nltk.ngrams(alpino.words(),1)\n",
    "\n",
    "print(unigrams)"
   ]
  },
  {
   "cell_type": "code",
   "execution_count": 16,
   "metadata": {},
   "outputs": [
    {
     "data": {
      "text/plain": [
       "[('De',),\n",
       " ('verzekeringsmaatschappijen',),\n",
       " ('verhelen',),\n",
       " ('niet',),\n",
       " ('dat',),\n",
       " ('ook',),\n",
       " ('de',),\n",
       " ('rentegrondslag',),\n",
       " ('van',),\n",
       " ('vier',),\n",
       " ('procent',),\n",
       " ('nog',),\n",
       " ('een',),\n",
       " ('ruime',),\n",
       " ('marge',),\n",
       " ('laat',),\n",
       " ('ten',),\n",
       " ('opzichte',),\n",
       " ('van',),\n",
       " ('de',)]"
      ]
     },
     "execution_count": 16,
     "metadata": {},
     "output_type": "execute_result"
    }
   ],
   "source": [
    "list(unigrams)[:20]"
   ]
  },
  {
   "cell_type": "markdown",
   "metadata": {},
   "source": [
    "### 바이그램으로 처리하기 "
   ]
  },
  {
   "cell_type": "code",
   "execution_count": 17,
   "metadata": {},
   "outputs": [
    {
     "name": "stdout",
     "output_type": "stream",
     "text": [
      "<generator object ngrams at 0x10e465db0>\n"
     ]
    }
   ],
   "source": [
    "bigrams = nltk.ngrams(alpino.words(),2)\n",
    "\n",
    "print(bigrams)"
   ]
  },
  {
   "cell_type": "code",
   "execution_count": 18,
   "metadata": {},
   "outputs": [
    {
     "data": {
      "text/plain": [
       "[('De', 'verzekeringsmaatschappijen'),\n",
       " ('verzekeringsmaatschappijen', 'verhelen'),\n",
       " ('verhelen', 'niet'),\n",
       " ('niet', 'dat'),\n",
       " ('dat', 'ook'),\n",
       " ('ook', 'de'),\n",
       " ('de', 'rentegrondslag'),\n",
       " ('rentegrondslag', 'van'),\n",
       " ('van', 'vier'),\n",
       " ('vier', 'procent'),\n",
       " ('procent', 'nog'),\n",
       " ('nog', 'een'),\n",
       " ('een', 'ruime'),\n",
       " ('ruime', 'marge'),\n",
       " ('marge', 'laat'),\n",
       " ('laat', 'ten'),\n",
       " ('ten', 'opzichte'),\n",
       " ('opzichte', 'van'),\n",
       " ('van', 'de'),\n",
       " ('de', 'thans')]"
      ]
     },
     "execution_count": 18,
     "metadata": {},
     "output_type": "execute_result"
    }
   ],
   "source": [
    "list(bigrams)[:20]"
   ]
  },
  {
   "cell_type": "markdown",
   "metadata": {},
   "source": [
    "# 연어  모듈 처리"
   ]
  },
  {
   "cell_type": "code",
   "execution_count": 19,
   "metadata": {
    "collapsed": true
   },
   "outputs": [],
   "source": [
    "import nltk.collocations"
   ]
  },
  {
   "cell_type": "code",
   "execution_count": 20,
   "metadata": {},
   "outputs": [
    {
     "data": {
      "text/plain": [
       "['AbstractCollocationFinder',\n",
       " 'BigramAssocMeasures',\n",
       " 'BigramCollocationFinder',\n",
       " 'ContingencyMeasures',\n",
       " 'FreqDist',\n",
       " 'QuadgramCollocationFinder',\n",
       " 'TrigramAssocMeasures',\n",
       " 'TrigramCollocationFinder',\n",
       " '__all__',\n",
       " '__builtins__',\n",
       " '__cached__',\n",
       " '__doc__',\n",
       " '__file__',\n",
       " '__loader__',\n",
       " '__name__',\n",
       " '__package__',\n",
       " '__spec__',\n",
       " '_itertools',\n",
       " 'demo',\n",
       " 'iteritems',\n",
       " 'ngrams',\n",
       " 'print_function',\n",
       " 'ranks_from_scores',\n",
       " 'spearman_correlation']"
      ]
     },
     "execution_count": 20,
     "metadata": {},
     "output_type": "execute_result"
    }
   ],
   "source": [
    "dir(nltk.collocations)"
   ]
  },
  {
   "cell_type": "markdown",
   "metadata": {},
   "source": [
    "## BigramCollocationFinder를 이용해서 처리하기 "
   ]
  },
  {
   "cell_type": "code",
   "execution_count": 22,
   "metadata": {},
   "outputs": [
    {
     "data": {
      "text/plain": [
       "(nltk.collocations.AbstractCollocationFinder,)"
      ]
     },
     "execution_count": 22,
     "metadata": {},
     "output_type": "execute_result"
    }
   ],
   "source": [
    "nltk.collocations.BigramCollocationFinder.__bases__"
   ]
  },
  {
   "cell_type": "code",
   "execution_count": 63,
   "metadata": {},
   "outputs": [
    {
     "name": "stdout",
     "output_type": "stream",
     "text": [
      "above_score\n",
      "apply_freq_filter\n",
      "apply_ngram_filter\n",
      "apply_word_filter\n",
      "default_ws\n",
      "from_documents\n",
      "from_words\n",
      "nbest\n",
      "score_ngram\n",
      "score_ngrams\n"
     ]
    }
   ],
   "source": [
    "for i in dir(nltk.collocations.BigramCollocationFinder) :\n",
    "    if not i.startswith(\"_\") :\n",
    "        print(i)"
   ]
  },
  {
   "cell_type": "code",
   "execution_count": 26,
   "metadata": {},
   "outputs": [
    {
     "name": "stdout",
     "output_type": "stream",
     "text": [
      "Help on class BigramCollocationFinder in module nltk.collocations:\n",
      "\n",
      "class BigramCollocationFinder(AbstractCollocationFinder)\n",
      " |  A tool for the finding and ranking of bigram collocations or other\n",
      " |  association measures. It is often useful to use from_words() rather than\n",
      " |  constructing an instance directly.\n",
      " |  \n",
      " |  Method resolution order:\n",
      " |      BigramCollocationFinder\n",
      " |      AbstractCollocationFinder\n",
      " |      builtins.object\n",
      " |  \n",
      " |  Methods defined here:\n",
      " |  \n",
      " |  __init__(self, word_fd, bigram_fd, window_size=2)\n",
      " |      Construct a BigramCollocationFinder, given FreqDists for\n",
      " |      appearances of words and (possibly non-contiguous) bigrams.\n",
      " |  \n",
      " |  score_ngram(self, score_fn, w1, w2)\n",
      " |      Returns the score for a given bigram using the given scoring\n",
      " |      function.  Following Church and Hanks (1990), counts are scaled by\n",
      " |      a factor of 1/(window_size - 1).\n",
      " |  \n",
      " |  ----------------------------------------------------------------------\n",
      " |  Class methods defined here:\n",
      " |  \n",
      " |  from_words(words, window_size=2) from builtins.type\n",
      " |      Construct a BigramCollocationFinder for all bigrams in the given\n",
      " |      sequence.  When window_size > 2, count non-contiguous bigrams, in the\n",
      " |      style of Church and Hanks's (1990) association ratio.\n",
      " |  \n",
      " |  ----------------------------------------------------------------------\n",
      " |  Data and other attributes defined here:\n",
      " |  \n",
      " |  default_ws = 2\n",
      " |  \n",
      " |  ----------------------------------------------------------------------\n",
      " |  Methods inherited from AbstractCollocationFinder:\n",
      " |  \n",
      " |  above_score(self, score_fn, min_score)\n",
      " |      Returns a sequence of ngrams, ordered by decreasing score, whose\n",
      " |      scores each exceed the given minimum score.\n",
      " |  \n",
      " |  apply_freq_filter(self, min_freq)\n",
      " |      Removes candidate ngrams which have frequency less than min_freq.\n",
      " |  \n",
      " |  apply_ngram_filter(self, fn)\n",
      " |      Removes candidate ngrams (w1, w2, ...) where fn(w1, w2, ...)\n",
      " |      evaluates to True.\n",
      " |  \n",
      " |  apply_word_filter(self, fn)\n",
      " |      Removes candidate ngrams (w1, w2, ...) where any of (fn(w1), fn(w2),\n",
      " |      ...) evaluates to True.\n",
      " |  \n",
      " |  nbest(self, score_fn, n)\n",
      " |      Returns the top n ngrams when scored by the given function.\n",
      " |  \n",
      " |  score_ngrams(self, score_fn)\n",
      " |      Returns a sequence of (ngram, score) pairs ordered from highest to\n",
      " |      lowest score, as determined by the scoring function provided.\n",
      " |  \n",
      " |  ----------------------------------------------------------------------\n",
      " |  Class methods inherited from AbstractCollocationFinder:\n",
      " |  \n",
      " |  from_documents(documents) from builtins.type\n",
      " |      Constructs a collocation finder given a collection of documents,\n",
      " |      each of which is a list (or iterable) of tokens.\n",
      " |  \n",
      " |  ----------------------------------------------------------------------\n",
      " |  Data descriptors inherited from AbstractCollocationFinder:\n",
      " |  \n",
      " |  __dict__\n",
      " |      dictionary for instance variables (if defined)\n",
      " |  \n",
      " |  __weakref__\n",
      " |      list of weak references to the object (if defined)\n",
      "\n"
     ]
    }
   ],
   "source": [
    "help(nltk.collocations.BigramCollocationFinder)"
   ]
  },
  {
   "cell_type": "code",
   "execution_count": 28,
   "metadata": {},
   "outputs": [
    {
     "data": {
      "text/plain": [
       "<nltk.collocations.BigramCollocationFinder at 0x10f564d68>"
      ]
     },
     "execution_count": 28,
     "metadata": {},
     "output_type": "execute_result"
    }
   ],
   "source": [
    "import nltk\n",
    "\n",
    "a = nltk.FreqDist(alpino.words())\n",
    "\n",
    "b = nltk.FreqDist(nltk.ngrams(alpino.words(),2))\n",
    "bi = nltk.collocations.BigramCollocationFinder(a,b)\n",
    "\n",
    "bi"
   ]
  },
  {
   "cell_type": "markdown",
   "metadata": {},
   "source": [
    "### 인스턴스 내부의 빈도 분포에 대한 것을 확인 "
   ]
  },
  {
   "cell_type": "code",
   "execution_count": 103,
   "metadata": {},
   "outputs": [
    {
     "data": {
      "text/plain": [
       "[('de', 7688), ('.', 6503), (',', 5385)]"
      ]
     },
     "execution_count": 103,
     "metadata": {},
     "output_type": "execute_result"
    }
   ],
   "source": [
    "bi.word_fd.most_common(3)"
   ]
  },
  {
   "cell_type": "code",
   "execution_count": 102,
   "metadata": {},
   "outputs": [
    {
     "data": {
      "text/plain": [
       "[(('van', 'de'), 1426), (('.', 'De'), 1128), (('in', 'de'), 671)]"
      ]
     },
     "execution_count": 102,
     "metadata": {},
     "output_type": "execute_result"
    }
   ],
   "source": [
    "bi.ngram_fd.most_common(3)"
   ]
  },
  {
   "cell_type": "markdown",
   "metadata": {},
   "source": [
    "## 실제 스코어 처리를 하는 방법   :  BigramAssocMeasures 클래스의 메소드 이용"
   ]
  },
  {
   "cell_type": "code",
   "execution_count": 39,
   "metadata": {},
   "outputs": [
    {
     "name": "stdout",
     "output_type": "stream",
     "text": [
      "Help on method score_ngrams in module nltk.collocations:\n",
      "\n",
      "score_ngrams(score_fn) method of nltk.collocations.BigramCollocationFinder instance\n",
      "    Returns a sequence of (ngram, score) pairs ordered from highest to\n",
      "    lowest score, as determined by the scoring function provided.\n",
      "\n"
     ]
    }
   ],
   "source": [
    "help(bi.score_ngrams)"
   ]
  },
  {
   "cell_type": "code",
   "execution_count": 64,
   "metadata": {},
   "outputs": [
    {
     "name": "stdout",
     "output_type": "stream",
     "text": [
      "chi_sq\n",
      "dice\n",
      "fisher\n",
      "jaccard\n",
      "likelihood_ratio\n",
      "mi_like\n",
      "phi_sq\n",
      "pmi\n",
      "poisson_stirling\n",
      "raw_freq\n",
      "student_t\n"
     ]
    }
   ],
   "source": [
    "for i in dir(nltk.collocations.BigramAssocMeasures) :\n",
    "    if not i.startswith(\"_\") :\n",
    "        print(i)"
   ]
  },
  {
   "cell_type": "code",
   "execution_count": 38,
   "metadata": {},
   "outputs": [
    {
     "data": {
      "text/plain": [
       "[(('.', 'De'), 5996.136605113348),\n",
       " (('van', 'de'), 3295.358849615346),\n",
       " (('.', 'Het'), 2573.153112811824)]"
      ]
     },
     "execution_count": 38,
     "metadata": {},
     "output_type": "execute_result"
    }
   ],
   "source": [
    "bgm    = nltk.collocations.BigramAssocMeasures()\n",
    "scored = bi.score_ngrams( bgm.likelihood_ratio  )\n",
    "\n",
    "scored[:3]"
   ]
  },
  {
   "cell_type": "code",
   "execution_count": 65,
   "metadata": {},
   "outputs": [
    {
     "name": "stdout",
     "output_type": "stream",
     "text": [
      "Help on method likelihood_ratio in module nltk.metrics.association:\n",
      "\n",
      "likelihood_ratio(*marginals) method of abc.ABCMeta instance\n",
      "    Scores ngrams using likelihood ratios as in Manning and Schutze 5.3.4.\n",
      "\n"
     ]
    }
   ],
   "source": [
    "help(bgm.likelihood_ratio)"
   ]
  },
  {
   "cell_type": "markdown",
   "metadata": {},
   "source": [
    "## 토근화한 리스트를 직접 받아서 인스턴스를 만들기"
   ]
  },
  {
   "cell_type": "code",
   "execution_count": 50,
   "metadata": {},
   "outputs": [],
   "source": [
    "import nltk\n",
    "\n",
    "from nltk.collocations import BigramCollocationFinder,BigramAssocMeasures\n",
    "from nltk.corpus import webtext, stopwords\n",
    "\n"
   ]
  },
  {
   "cell_type": "code",
   "execution_count": 44,
   "metadata": {},
   "outputs": [
    {
     "data": {
      "text/plain": [
       "['firefox.txt',\n",
       " 'grail.txt',\n",
       " 'overheard.txt',\n",
       " 'pirates.txt',\n",
       " 'singles.txt',\n",
       " 'wine.txt']"
      ]
     },
     "execution_count": 44,
     "metadata": {},
     "output_type": "execute_result"
    }
   ],
   "source": [
    "webtext.fileids()"
   ]
  },
  {
   "cell_type": "markdown",
   "metadata": {},
   "source": [
    "### 말뭉치의 특정 파일을 토큰화 처리"
   ]
  },
  {
   "cell_type": "code",
   "execution_count": 46,
   "metadata": {},
   "outputs": [],
   "source": [
    "tokens = [t.lower() for t in webtext.words('firefox.txt')]"
   ]
  },
  {
   "cell_type": "markdown",
   "metadata": {},
   "source": [
    "### 토근화된 것을 바이그램으로 처리"
   ]
  },
  {
   "cell_type": "code",
   "execution_count": 47,
   "metadata": {
    "collapsed": true
   },
   "outputs": [],
   "source": [
    "biwords = BigramCollocationFinder.from_words(tokens)"
   ]
  },
  {
   "cell_type": "markdown",
   "metadata": {},
   "source": [
    "### 가장 많이 매칭된 결과를 출력"
   ]
  },
  {
   "cell_type": "code",
   "execution_count": 49,
   "metadata": {},
   "outputs": [
    {
     "data": {
      "text/plain": [
       "[(\"'\", 't'),\n",
       " ('does', 'not'),\n",
       " ('doesn', \"'\"),\n",
       " ('0', '.'),\n",
       " ('can', \"'\"),\n",
       " ('t', 'work'),\n",
       " ('should', 'be'),\n",
       " (\"'\", 's'),\n",
       " ('don', \"'\"),\n",
       " ('download', 'manager')]"
      ]
     },
     "execution_count": 49,
     "metadata": {},
     "output_type": "execute_result"
    }
   ],
   "source": [
    "biwords.nbest(BigramAssocMeasures.likelihood_ratio,10)"
   ]
  },
  {
   "cell_type": "markdown",
   "metadata": {},
   "source": [
    "###  불용어와 3자리 미만의 단어를 제거한 후에 가장 많이 사용되는 단어들만 체크"
   ]
  },
  {
   "cell_type": "code",
   "execution_count": 55,
   "metadata": {},
   "outputs": [
    {
     "name": "stdout",
     "output_type": "stream",
     "text": [
      "{'with', 're', 'y', 'you', 'just', 'needn', 'itself', 'more', 'aren', 'because', 'each', 'be', 'wouldn', 'so', 'me', 'once', 'below', 'hadn', 'by', 'during', 'won', 'of', 'o', 'while', 'she', 'isn', 'll', 'them', 'don', 'where', 'the', 'm', 'for', 'after', 'few', 'will', 'ma', 'were', 'it', 'above', 'been', 'was', 'had', 'such', 'only', 'if', 'hers', 'ourselves', 'should', 'at', 'on', 'am', 'who', 'about', 'our', 'whom', 'they', 'as', 'my', 'some', 'and', 'himself', 'haven', 'any', 'have', 'yourselves', 'a', 'before', 'mightn', 'than', 'myself', 'between', 'too', 'an', 'i', 'to', 'we', 'shan', 'shouldn', 'its', 'over', 'there', 'not', 'has', 'up', 'but', 'these', 'mustn', 'why', 'can', 'other', 'now', 'he', 'do', 'into', 'those', 'couldn', 'yourself', 'very', 'this', 'then', 'against', 'ain', 'being', 'does', 'what', 'again', 'or', 'having', 'yours', 'him', 'both', 'did', 'your', 'are', 'down', 'weren', 'all', 'didn', 'from', 'until', 'same', 'further', 'hasn', 'doesn', 'herself', 'under', 'wasn', 'out', 'themselves', 'here', 'doing', 'when', 'ours', 'how', 'nor', 'own', 'theirs', 's', 'no', 't', 'off', 've', 'their', 'which', 'in', 'most', 'd', 'his', 'that', 'her', 'through', 'is'}\n"
     ]
    }
   ],
   "source": [
    "print(set(stopwords.words('english')))"
   ]
  },
  {
   "cell_type": "code",
   "execution_count": 51,
   "metadata": {
    "collapsed": true
   },
   "outputs": [],
   "source": [
    "biwords.apply_word_filter(lambda w : len(w)<3 or w in set(stopwords.words('english')))"
   ]
  },
  {
   "cell_type": "code",
   "execution_count": 52,
   "metadata": {},
   "outputs": [
    {
     "data": {
      "text/plain": [
       "[('download', 'manager'),\n",
       " ('http', '://'),\n",
       " ('new', 'tab'),\n",
       " ('context', 'menu'),\n",
       " ('address', 'bar'),\n",
       " ('print', 'preview'),\n",
       " ('location', 'bar'),\n",
       " ('mozilla', 'firebird'),\n",
       " ('bookmarks', 'toolbar'),\n",
       " ('password', 'manager')]"
      ]
     },
     "execution_count": 52,
     "metadata": {},
     "output_type": "execute_result"
    }
   ],
   "source": [
    "biwords.nbest(BigramAssocMeasures.likelihood_ratio,10)"
   ]
  },
  {
   "cell_type": "markdown",
   "metadata": {},
   "source": [
    "## 일반 텍스트 문자를 받아서 바이그램 처리하기 "
   ]
  },
  {
   "cell_type": "code",
   "execution_count": 56,
   "metadata": {
    "collapsed": true
   },
   "outputs": [],
   "source": [
    "text = \" Hardwork is the key to success. Never give up!\""
   ]
  },
  {
   "cell_type": "code",
   "execution_count": 58,
   "metadata": {},
   "outputs": [
    {
     "data": {
      "text/plain": [
       "['Hardwork',\n",
       " 'is',\n",
       " 'the',\n",
       " 'key',\n",
       " 'to',\n",
       " 'success',\n",
       " '.',\n",
       " 'Never',\n",
       " 'give',\n",
       " 'up',\n",
       " '!']"
      ]
     },
     "execution_count": 58,
     "metadata": {},
     "output_type": "execute_result"
    }
   ],
   "source": [
    "word_tokens = nltk.word_tokenize(text)\n",
    "word_tokens"
   ]
  },
  {
   "cell_type": "code",
   "execution_count": 60,
   "metadata": {},
   "outputs": [
    {
     "data": {
      "text/plain": [
       "<nltk.collocations.BigramCollocationFinder at 0x111d3e438>"
      ]
     },
     "execution_count": 60,
     "metadata": {},
     "output_type": "execute_result"
    }
   ],
   "source": [
    "finder = BigramCollocationFinder.from_words(word_tokens)\n",
    "finder"
   ]
  },
  {
   "cell_type": "code",
   "execution_count": 61,
   "metadata": {},
   "outputs": [
    {
     "data": {
      "text/plain": [
       "[(('.', 'Never'), 0.09090909090909091),\n",
       " (('Hardwork', 'is'), 0.09090909090909091),\n",
       " (('Never', 'give'), 0.09090909090909091),\n",
       " (('give', 'up'), 0.09090909090909091),\n",
       " (('is', 'the'), 0.09090909090909091),\n",
       " (('key', 'to'), 0.09090909090909091),\n",
       " (('success', '.'), 0.09090909090909091),\n",
       " (('the', 'key'), 0.09090909090909091),\n",
       " (('to', 'success'), 0.09090909090909091),\n",
       " (('up', '!'), 0.09090909090909091)]"
      ]
     },
     "execution_count": 61,
     "metadata": {},
     "output_type": "execute_result"
    }
   ],
   "source": [
    "bgm = BigramAssocMeasures()\n",
    "\n",
    "value = finder.score_ngrams(bgm.raw_freq)\n",
    "\n",
    "value"
   ]
  },
  {
   "cell_type": "code",
   "execution_count": 66,
   "metadata": {},
   "outputs": [
    {
     "name": "stdout",
     "output_type": "stream",
     "text": [
      "Help on function raw_freq in module nltk.metrics.association:\n",
      "\n",
      "raw_freq(*marginals)\n",
      "    Scores ngrams by their frequency\n",
      "\n"
     ]
    }
   ],
   "source": [
    "help(bgm.raw_freq)"
   ]
  },
  {
   "cell_type": "markdown",
   "metadata": {},
   "source": [
    "# trigram 클래스 "
   ]
  },
  {
   "cell_type": "code",
   "execution_count": 23,
   "metadata": {},
   "outputs": [
    {
     "data": {
      "text/plain": [
       "(nltk.collocations.AbstractCollocationFinder,)"
      ]
     },
     "execution_count": 23,
     "metadata": {},
     "output_type": "execute_result"
    }
   ],
   "source": [
    "nltk.collocations.TrigramCollocationFinder.__bases__"
   ]
  },
  {
   "cell_type": "code",
   "execution_count": 73,
   "metadata": {},
   "outputs": [
    {
     "name": "stdout",
     "output_type": "stream",
     "text": [
      "above_score\n",
      "apply_freq_filter\n",
      "apply_ngram_filter\n",
      "apply_word_filter\n",
      "bigram_finder\n",
      "default_ws\n",
      "from_documents\n",
      "from_words\n",
      "nbest\n",
      "score_ngram\n",
      "score_ngrams\n"
     ]
    }
   ],
   "source": [
    "for i in dir(nltk.collocations.TrigramCollocationFinder) :\n",
    "    if not i.startswith(\"_\") :\n",
    "        print(i)"
   ]
  },
  {
   "cell_type": "code",
   "execution_count": 67,
   "metadata": {},
   "outputs": [
    {
     "data": {
      "text/plain": [
       "['De', 'verzekeringsmaatschappijen', 'verhelen', ...]"
      ]
     },
     "execution_count": 67,
     "metadata": {},
     "output_type": "execute_result"
    }
   ],
   "source": [
    "alpino.words()"
   ]
  },
  {
   "cell_type": "markdown",
   "metadata": {},
   "source": [
    "### 함수를 이용해서 출력하면 리스트로 출력됨"
   ]
  },
  {
   "cell_type": "code",
   "execution_count": 71,
   "metadata": {},
   "outputs": [
    {
     "data": {
      "text/plain": [
       "[('De', 'verzekeringsmaatschappijen', 'verhelen'),\n",
       " ('verzekeringsmaatschappijen', 'verhelen', 'niet'),\n",
       " ('verhelen', 'niet', 'dat'),\n",
       " ('niet', 'dat', 'ook'),\n",
       " ('dat', 'ook', 'de')]"
      ]
     },
     "execution_count": 71,
     "metadata": {},
     "output_type": "execute_result"
    }
   ],
   "source": [
    "trigrams = nltk.ngrams(alpino.words(),3)\n",
    "list(trigrams)[:5]"
   ]
  },
  {
   "cell_type": "markdown",
   "metadata": {},
   "source": [
    "### TrigramCollectionFinder 클래스를 이용해서 생성\n"
   ]
  },
  {
   "cell_type": "code",
   "execution_count": 77,
   "metadata": {},
   "outputs": [],
   "source": [
    "trigrams_ = nltk.collocations.TrigramCollocationFinder.from_words(alpino.words())\n",
    "\n"
   ]
  },
  {
   "cell_type": "code",
   "execution_count": 88,
   "metadata": {},
   "outputs": [
    {
     "name": "stdout",
     "output_type": "stream",
     "text": [
      "N\n",
      "above_score\n",
      "apply_freq_filter\n",
      "apply_ngram_filter\n",
      "apply_word_filter\n",
      "bigram_fd\n",
      "bigram_finder\n",
      "default_ws\n",
      "from_documents\n",
      "from_words\n",
      "nbest\n",
      "ngram_fd\n",
      "score_ngram\n",
      "score_ngrams\n",
      "wildcard_fd\n",
      "word_fd\n"
     ]
    }
   ],
   "source": [
    "for i in dir(trigrams_) :\n",
    "    if not i.startswith(\"_\") :\n",
    "        print(i)"
   ]
  },
  {
   "cell_type": "markdown",
   "metadata": {},
   "source": [
    "### 빈도분포에 대한 세부 내용 조회 "
   ]
  },
  {
   "cell_type": "code",
   "execution_count": 90,
   "metadata": {},
   "outputs": [
    {
     "data": {
      "text/plain": [
       "[(('de', 'van'), 1026), (('te', '.'), 501), ((',', 'de'), 499)]"
      ]
     },
     "execution_count": 90,
     "metadata": {},
     "output_type": "execute_result"
    }
   ],
   "source": [
    "trigrams_.wildcard_fd.most_common(3)"
   ]
  },
  {
   "cell_type": "code",
   "execution_count": 91,
   "metadata": {},
   "outputs": [
    {
     "data": {
      "text/plain": [
       "[('de', 7688), ('.', 6503), (',', 5385)]"
      ]
     },
     "execution_count": 91,
     "metadata": {},
     "output_type": "execute_result"
    }
   ],
   "source": [
    "trigrams_.word_fd.most_common(3)"
   ]
  },
  {
   "cell_type": "code",
   "execution_count": 93,
   "metadata": {},
   "outputs": [
    {
     "data": {
      "text/plain": [
       "[(('van', 'de'), 1426), (('.', 'De'), 1128), (('in', 'de'), 671)]"
      ]
     },
     "execution_count": 93,
     "metadata": {},
     "output_type": "execute_result"
    }
   ],
   "source": [
    "trigrams_.bigram_fd.most_common(3)"
   ]
  },
  {
   "cell_type": "code",
   "execution_count": 92,
   "metadata": {},
   "outputs": [
    {
     "data": {
      "text/plain": [
       "[((',', 'dat', 'de'), 74),\n",
       " (('.', 'In', 'de'), 73),\n",
       " (('.', '&quot;', 'De'), 63)]"
      ]
     },
     "execution_count": 92,
     "metadata": {},
     "output_type": "execute_result"
    }
   ],
   "source": [
    "trigrams_.ngram_fd.most_common(3)"
   ]
  },
  {
   "cell_type": "code",
   "execution_count": 101,
   "metadata": {},
   "outputs": [
    {
     "name": "stdout",
     "output_type": "stream",
     "text": [
      "('De', 'verzekeringsmaatschappijen', 'verhelen')\n",
      "('verzekeringsmaatschappijen', 'verhelen', 'niet')\n",
      "('verhelen', 'niet', 'dat')\n",
      "('niet', 'dat', 'ook')\n",
      "('dat', 'ook', 'de')\n",
      "('ook', 'de', 'rentegrondslag')\n"
     ]
    }
   ],
   "source": [
    "count=0\n",
    "for n, i in trigrams_.ngram_fd.items() :\n",
    "    if count > 5 :\n",
    "        break\n",
    "    print(n)\n",
    "    count += 1"
   ]
  },
  {
   "cell_type": "markdown",
   "metadata": {},
   "source": [
    "# quadgram 클래스"
   ]
  },
  {
   "cell_type": "code",
   "execution_count": 24,
   "metadata": {},
   "outputs": [
    {
     "data": {
      "text/plain": [
       "(nltk.collocations.AbstractCollocationFinder,)"
      ]
     },
     "execution_count": 24,
     "metadata": {},
     "output_type": "execute_result"
    }
   ],
   "source": [
    "nltk.collocations.QuadgramCollocationFinder.__bases__"
   ]
  },
  {
   "cell_type": "code",
   "execution_count": 74,
   "metadata": {},
   "outputs": [
    {
     "name": "stdout",
     "output_type": "stream",
     "text": [
      "above_score\n",
      "apply_freq_filter\n",
      "apply_ngram_filter\n",
      "apply_word_filter\n",
      "default_ws\n",
      "from_documents\n",
      "from_words\n",
      "nbest\n",
      "score_ngram\n",
      "score_ngrams\n"
     ]
    }
   ],
   "source": [
    "for i in dir(nltk.collocations.QuadgramCollocationFinder) :\n",
    "    if not i.startswith(\"_\") :\n",
    "        print(i)"
   ]
  },
  {
   "cell_type": "markdown",
   "metadata": {},
   "source": [
    "### 함수를 이용해서 처리하면 실제 리스트로 출력됨"
   ]
  },
  {
   "cell_type": "code",
   "execution_count": 72,
   "metadata": {},
   "outputs": [
    {
     "data": {
      "text/plain": [
       "[('De', 'verzekeringsmaatschappijen', 'verhelen', 'niet'),\n",
       " ('verzekeringsmaatschappijen', 'verhelen', 'niet', 'dat'),\n",
       " ('verhelen', 'niet', 'dat', 'ook'),\n",
       " ('niet', 'dat', 'ook', 'de'),\n",
       " ('dat', 'ook', 'de', 'rentegrondslag')]"
      ]
     },
     "execution_count": 72,
     "metadata": {},
     "output_type": "execute_result"
    }
   ],
   "source": [
    "quadgrams = nltk.ngrams(alpino.words(),4)\n",
    "list(quadgrams)[:5]"
   ]
  },
  {
   "cell_type": "markdown",
   "metadata": {},
   "source": [
    "###    QuadgramCollocationFinder 클래스를 이용해서 처리 "
   ]
  },
  {
   "cell_type": "code",
   "execution_count": 83,
   "metadata": {
    "collapsed": true
   },
   "outputs": [],
   "source": [
    "quardgrams_ = nltk.collocations.QuadgramCollocationFinder.from_words(alpino.words())"
   ]
  },
  {
   "cell_type": "code",
   "execution_count": 86,
   "metadata": {},
   "outputs": [
    {
     "data": {
      "text/plain": [
       "<nltk.collocations.QuadgramCollocationFinder at 0x119ae2748>"
      ]
     },
     "execution_count": 86,
     "metadata": {},
     "output_type": "execute_result"
    }
   ],
   "source": [
    "quardgrams_"
   ]
  },
  {
   "cell_type": "code",
   "execution_count": 87,
   "metadata": {},
   "outputs": [
    {
     "name": "stdout",
     "output_type": "stream",
     "text": [
      "N\n",
      "above_score\n",
      "apply_freq_filter\n",
      "apply_ngram_filter\n",
      "apply_word_filter\n",
      "default_ws\n",
      "from_documents\n",
      "from_words\n",
      "ii\n",
      "iii\n",
      "iixi\n",
      "ixi\n",
      "ixii\n",
      "ixxi\n",
      "nbest\n",
      "ngram_fd\n",
      "score_ngram\n",
      "score_ngrams\n",
      "word_fd\n"
     ]
    }
   ],
   "source": [
    "for i in dir(quardgrams_) :\n",
    "    if not i.startswith(\"_\") :\n",
    "        print(i)"
   ]
  },
  {
   "cell_type": "markdown",
   "metadata": {},
   "source": [
    "### 빈도분포에 대한 세부 조회 "
   ]
  },
  {
   "cell_type": "code",
   "execution_count": 95,
   "metadata": {},
   "outputs": [
    {
     "data": {
      "text/plain": [
       "[('de', 7688), ('.', 6503), (',', 5385)]"
      ]
     },
     "execution_count": 95,
     "metadata": {},
     "output_type": "execute_result"
    }
   ],
   "source": [
    "quardgrams_.word_fd.most_common(3)"
   ]
  },
  {
   "cell_type": "code",
   "execution_count": 94,
   "metadata": {},
   "outputs": [
    {
     "data": {
      "text/plain": [
       "[((',', 'die', 'in', 'de'), 13),\n",
       " (('.', 'Het', 'is', 'een'), 12),\n",
       " (('&quot;', ',', 'aldus', 'de'), 11)]"
      ]
     },
     "execution_count": 94,
     "metadata": {},
     "output_type": "execute_result"
    }
   ],
   "source": [
    "quardgrams_.ngram_fd.most_common(3)"
   ]
  },
  {
   "cell_type": "code",
   "execution_count": 100,
   "metadata": {},
   "outputs": [
    {
     "name": "stdout",
     "output_type": "stream",
     "text": [
      "('De', 'verzekeringsmaatschappijen', 'verhelen', 'niet')\n",
      "('verzekeringsmaatschappijen', 'verhelen', 'niet', 'dat')\n",
      "('verhelen', 'niet', 'dat', 'ook')\n",
      "('niet', 'dat', 'ook', 'de')\n",
      "('dat', 'ook', 'de', 'rentegrondslag')\n",
      "('ook', 'de', 'rentegrondslag', 'van')\n"
     ]
    }
   ],
   "source": [
    "count = 0\n",
    "for n,i in quardgrams_.ngram_fd.items() :\n",
    "    if count > 5 :\n",
    "        break\n",
    "    print(n)\n",
    "    count += 1"
   ]
  },
  {
   "cell_type": "code",
   "execution_count": null,
   "metadata": {
    "collapsed": true
   },
   "outputs": [],
   "source": []
  }
 ],
 "metadata": {
  "kernelspec": {
   "display_name": "Python 3",
   "language": "python",
   "name": "python3"
  },
  "language_info": {
   "codemirror_mode": {
    "name": "ipython",
    "version": 3
   },
   "file_extension": ".py",
   "mimetype": "text/x-python",
   "name": "python",
   "nbconvert_exporter": "python",
   "pygments_lexer": "ipython3",
   "version": "3.6.1"
  }
 },
 "nbformat": 4,
 "nbformat_minor": 2
}
