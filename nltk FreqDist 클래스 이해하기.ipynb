{
 "cells": [
  {
   "cell_type": "code",
   "execution_count": 10,
   "metadata": {
    "collapsed": true
   },
   "outputs": [],
   "source": [
    "import nltk"
   ]
  },
  {
   "cell_type": "markdown",
   "metadata": {},
   "source": [
    "# FreqDist 클래스는 빈도분포를 나타내는 클래스를 표시"
   ]
  },
  {
   "cell_type": "code",
   "execution_count": 11,
   "metadata": {},
   "outputs": [
    {
     "data": {
      "text/plain": [
       "nltk.probability.FreqDist"
      ]
     },
     "execution_count": 11,
     "metadata": {},
     "output_type": "execute_result"
    }
   ],
   "source": [
    "nltk.FreqDist"
   ]
  },
  {
   "cell_type": "markdown",
   "metadata": {},
   "source": [
    "## collections.Counter 클래스를 상속을 받아 구현이 된 것을 알 수 있다."
   ]
  },
  {
   "cell_type": "code",
   "execution_count": 12,
   "metadata": {},
   "outputs": [
    {
     "data": {
      "text/plain": [
       "(collections.Counter,)"
      ]
     },
     "execution_count": 12,
     "metadata": {},
     "output_type": "execute_result"
    }
   ],
   "source": [
    "nltk.FreqDist.__bases__"
   ]
  },
  {
   "cell_type": "markdown",
   "metadata": {},
   "source": [
    "## FreqDist 클래스 내부의 속성을 확인하기 \n",
    "\n"
   ]
  },
  {
   "cell_type": "code",
   "execution_count": 13,
   "metadata": {},
   "outputs": [
    {
     "name": "stdout",
     "output_type": "stream",
     "text": [
      "B\n",
      "N\n",
      "Nr\n",
      "clear\n",
      "copy\n",
      "elements\n",
      "freq\n",
      "fromkeys\n",
      "get\n",
      "hapaxes\n",
      "items\n",
      "keys\n",
      "max\n",
      "most_common\n",
      "pformat\n",
      "plot\n",
      "pop\n",
      "popitem\n",
      "pprint\n",
      "r_Nr\n",
      "setdefault\n",
      "subtract\n",
      "tabulate\n",
      "unicode_repr\n",
      "update\n",
      "values\n"
     ]
    }
   ],
   "source": [
    "for i in dir(nltk.FreqDist) :\n",
    "    if not i.startswith(\"_\") :\n",
    "        print(i)"
   ]
  },
  {
   "cell_type": "markdown",
   "metadata": {},
   "source": [
    "## 추가된 속성과 메소드 "
   ]
  },
  {
   "cell_type": "code",
   "execution_count": 14,
   "metadata": {},
   "outputs": [
    {
     "name": "stdout",
     "output_type": "stream",
     "text": [
      "{'r_Nr', 'B', 'hapaxes', 'tabulate', 'unicode_repr', 'Nr', '__unicode__', 'N', 'freq', 'plot', '_cumulative_frequencies', 'pprint', 'pformat', 'max'}\n"
     ]
    }
   ],
   "source": [
    "import collections\n",
    "\n",
    "c = set(dir(collections.Counter))\n",
    "\n",
    "f = set(dir(nltk.FreqDist))\n",
    "\n",
    "print(f-c)"
   ]
  },
  {
   "cell_type": "code",
   "execution_count": 4,
   "metadata": {
    "collapsed": true
   },
   "outputs": [],
   "source": [
    "fd = nltk.FreqDist(nltk.corpus.brown.words())\n"
   ]
  },
  {
   "cell_type": "markdown",
   "metadata": {},
   "source": [
    "### 실제 분포를 이루는 bins 수 \n",
    "\n",
    "    빈도분포 자료형의 실제 키의 갯수와 동일하다.\n",
    "    "
   ]
  },
  {
   "cell_type": "code",
   "execution_count": 22,
   "metadata": {},
   "outputs": [
    {
     "name": "stdout",
     "output_type": "stream",
     "text": [
      "Help on method B in module nltk.probability:\n",
      "\n",
      "B() method of nltk.probability.FreqDist instance\n",
      "    Return the total number of sample values (or \"bins\") that\n",
      "    have counts greater than zero.  For the total\n",
      "    number of sample outcomes recorded, use ``FreqDist.N()``.\n",
      "    (FreqDist.B() is the same as len(FreqDist).)\n",
      "    \n",
      "    :rtype: int\n",
      "\n"
     ]
    }
   ],
   "source": [
    "help(fd.B)"
   ]
  },
  {
   "cell_type": "code",
   "execution_count": 23,
   "metadata": {},
   "outputs": [
    {
     "name": "stdout",
     "output_type": "stream",
     "text": [
      "56057\n",
      "56057\n"
     ]
    }
   ],
   "source": [
    "print(fd.B())\n",
    "print(len(fd))"
   ]
  },
  {
   "cell_type": "markdown",
   "metadata": {},
   "source": [
    "###  실제 분포를 이루는 값과 동일 "
   ]
  },
  {
   "cell_type": "code",
   "execution_count": 21,
   "metadata": {},
   "outputs": [
    {
     "name": "stdout",
     "output_type": "stream",
     "text": [
      "56057\n",
      "0\n",
      "1161192\n",
      "1161192\n"
     ]
    }
   ],
   "source": [
    "\n",
    "print(fd.N())\n",
    "\n",
    "result = 0\n",
    "for v in fd.values() :\n",
    "    result += v\n",
    "    \n",
    "print(result)"
   ]
  },
  {
   "cell_type": "markdown",
   "metadata": {},
   "source": [
    "### 단어들이 빈도 주에 제일 많은 단어 조회"
   ]
  },
  {
   "cell_type": "code",
   "execution_count": 29,
   "metadata": {},
   "outputs": [
    {
     "name": "stdout",
     "output_type": "stream",
     "text": [
      "the\n"
     ]
    }
   ],
   "source": [
    "print(fd.max())"
   ]
  },
  {
   "cell_type": "code",
   "execution_count": 24,
   "metadata": {},
   "outputs": [
    {
     "name": "stdout",
     "output_type": "stream",
     "text": [
      "[('the', 62713), (',', 58334), ('.', 49346), ('of', 36080), ('and', 27915)]\n"
     ]
    }
   ],
   "source": [
    "print(fd.most_common(5))"
   ]
  },
  {
   "cell_type": "markdown",
   "metadata": {},
   "source": [
    "## 단어별로 빈도 확인하기 "
   ]
  },
  {
   "cell_type": "code",
   "execution_count": 48,
   "metadata": {},
   "outputs": [
    {
     "data": {
      "text/plain": [
       "0.05400743374050114"
      ]
     },
     "execution_count": 48,
     "metadata": {},
     "output_type": "execute_result"
    }
   ],
   "source": [
    "fd.freq(\"the\")"
   ]
  },
  {
   "cell_type": "markdown",
   "metadata": {},
   "source": [
    "## 누적 빈도를 확인하고 그래프 그리기  \n"
   ]
  },
  {
   "cell_type": "code",
   "execution_count": 30,
   "metadata": {},
   "outputs": [
    {
     "name": "stdout",
     "output_type": "stream",
     "text": [
      "  1   5.40% the\n",
      "  2  10.42% ,\n",
      "  3  14.67% .\n",
      "  4  17.78% of\n",
      "  5  20.19% and\n",
      "  6  22.40% to\n",
      "  7  24.29% a\n",
      "  8  25.97% in\n"
     ]
    }
   ],
   "source": [
    "fd = nltk.FreqDist(nltk.corpus.brown.words())\n",
    "cumulative = 0.0\n",
    "most_common_words = [word for (word, count) in fd.most_common()]\n",
    "for rank, word in enumerate(most_common_words):\n",
    "    cumulative += fd.freq(word)\n",
    "    print(\"%3d %6.2f%% %s\" % (rank + 1, cumulative * 100, word))\n",
    "    if cumulative > 0.25:\n",
    "        break"
   ]
  },
  {
   "cell_type": "code",
   "execution_count": 34,
   "metadata": {},
   "outputs": [
    {
     "name": "stdout",
     "output_type": "stream",
     "text": [
      "Help on method plot in module nltk.probability:\n",
      "\n",
      "plot(*args, **kwargs) method of nltk.probability.FreqDist instance\n",
      "    Plot samples from the frequency distribution\n",
      "    displaying the most frequent sample first.  If an integer\n",
      "    parameter is supplied, stop after this many samples have been\n",
      "    plotted.  For a cumulative plot, specify cumulative=True.\n",
      "    (Requires Matplotlib to be installed.)\n",
      "    \n",
      "    :param title: The title for the graph\n",
      "    :type title: str\n",
      "    :param cumulative: A flag to specify whether the plot is cumulative (default = False)\n",
      "    :type title: bool\n",
      "\n"
     ]
    }
   ],
   "source": [
    "help(fd.plot)"
   ]
  },
  {
   "cell_type": "code",
   "execution_count": 37,
   "metadata": {},
   "outputs": [
    {
     "data": {
      "image/png": "[encoded data removed]",
      "text/plain": [
       "<matplotlib.figure.Figure at 0x11119bac8>"
      ]
     },
     "metadata": {},
     "output_type": "display_data"
    }
   ],
   "source": [
    "fd.plot(8,title = \"book1\", cumulative=True)"
   ]
  },
  {
   "cell_type": "markdown",
   "metadata": {},
   "source": [
    "## 내부의 단어들을 조회"
   ]
  },
  {
   "cell_type": "code",
   "execution_count": 32,
   "metadata": {},
   "outputs": [
    {
     "data": {
      "text/plain": [
       "['term-end',\n",
       " 'presentments',\n",
       " 'September-October',\n",
       " 'Durwood',\n",
       " 'Pye',\n",
       " 'Mayor-nominate',\n",
       " 'Merger',\n",
       " 're-set',\n",
       " 'disable',\n",
       " \"ordinary's\",\n",
       " 'appraisers',\n",
       " 'Wards',\n",
       " 'juries',\n",
       " 'unmeritorious',\n",
       " 'Regarding',\n",
       " 'extern',\n",
       " \"Commissioner's\",\n",
       " 'Bellwood',\n",
       " 'Alpharetta',\n",
       " 'Cheshire']"
      ]
     },
     "execution_count": 32,
     "metadata": {},
     "output_type": "execute_result"
    }
   ],
   "source": [
    "fd.hapaxes()[:20]"
   ]
  },
  {
   "cell_type": "markdown",
   "metadata": {},
   "source": [
    "##  빈도분포에 들어가 있는 것을 테이블 표호 알아보기...\n",
    "\n",
    "    양이 많아도 다 표시하므로 적당한 양만 출력하는 것이 좋다."
   ]
  },
  {
   "cell_type": "code",
   "execution_count": 39,
   "metadata": {},
   "outputs": [
    {
     "name": "stdout",
     "output_type": "stream",
     "text": [
      "Help on method tabulate in module nltk.probability:\n",
      "\n",
      "tabulate(*args, **kwargs) method of nltk.probability.FreqDist instance\n",
      "    Tabulate the given samples from the frequency distribution (cumulative),\n",
      "    displaying the most frequent sample first.  If an integer\n",
      "    parameter is supplied, stop after this many samples have been\n",
      "    plotted.\n",
      "    \n",
      "    :param samples: The samples to plot (default is all samples)\n",
      "    :type samples: list\n",
      "    :param cumulative: A flag to specify whether the freqs are cumulative (default = False)\n",
      "    :type title: bool\n",
      "\n"
     ]
    }
   ],
   "source": [
    "help(fd.tabulate)"
   ]
  },
  {
   "cell_type": "code",
   "execution_count": 46,
   "metadata": {},
   "outputs": [],
   "source": [
    "from nltk import FreqDist\n",
    "\n",
    "fdist = FreqDist(\"aaa b cccc dd e\")"
   ]
  },
  {
   "cell_type": "code",
   "execution_count": 47,
   "metadata": {},
   "outputs": [
    {
     "name": "stdout",
     "output_type": "stream",
     "text": [
      "  c a d b e \n",
      "4 4 3 2 1 1 \n"
     ]
    }
   ],
   "source": [
    "fdist.tabulate()"
   ]
  },
  {
   "cell_type": "code",
   "execution_count": null,
   "metadata": {
    "collapsed": true
   },
   "outputs": [],
   "source": []
  }
 ],
 "metadata": {
  "kernelspec": {
   "display_name": "Python 3",
   "language": "python",
   "name": "python3"
  },
  "language_info": {
   "codemirror_mode": {
    "name": "ipython",
    "version": 3
   },
   "file_extension": ".py",
   "mimetype": "text/x-python",
   "name": "python",
   "nbconvert_exporter": "python",
   "pygments_lexer": "ipython3",
   "version": "3.6.1"
  }
 },
 "nbformat": 4,
 "nbformat_minor": 2
}
