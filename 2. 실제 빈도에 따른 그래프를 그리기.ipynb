{
 "cells": [
  {
   "cell_type": "code",
   "execution_count": null,
   "metadata": {
    "collapsed": true
   },
   "outputs": [],
   "source": [
    "import nltk\n"
   ]
  },
  {
   "cell_type": "code",
   "execution_count": 1,
   "metadata": {
    "collapsed": true
   },
   "outputs": [],
   "source": [
    "from nltk.corpus import reuters\n",
    "from nltk.probability import FreqDist"
   ]
  },
  {
   "cell_type": "code",
   "execution_count": 2,
   "metadata": {
    "collapsed": true
   },
   "outputs": [],
   "source": [
    "import matplotlib\n",
    "import matplotlib.pyplot as plt"
   ]
  },
  {
   "cell_type": "markdown",
   "metadata": {},
   "source": [
    "# 모든 단어에 대한 빈도수를 계산한다"
   ]
  },
  {
   "cell_type": "code",
   "execution_count": 3,
   "metadata": {
    "collapsed": true
   },
   "outputs": [],
   "source": [
    "fd = FreqDist(reuters.words())"
   ]
  },
  {
   "cell_type": "markdown",
   "metadata": {},
   "source": [
    "### 상위의 26개를 가지고 와서 보여준다. "
   ]
  },
  {
   "cell_type": "code",
   "execution_count": 4,
   "metadata": {},
   "outputs": [
    {
     "data": {
      "text/plain": [
       "[('.', 94687),\n",
       " (',', 72360),\n",
       " ('the', 58251),\n",
       " ('of', 35979),\n",
       " ('to', 34035),\n",
       " ('in', 26478),\n",
       " ('said', 25224),\n",
       " ('and', 25043),\n",
       " ('a', 23492),\n",
       " ('mln', 18037),\n",
       " ('vs', 14120),\n",
       " ('-', 13705),\n",
       " ('for', 12785),\n",
       " ('dlrs', 11730),\n",
       " (\"'\", 11272),\n",
       " ('The', 10968),\n",
       " ('000', 10277),\n",
       " ('1', 9977),\n",
       " ('s', 9298),\n",
       " ('pct', 9093),\n",
       " ('it', 8842),\n",
       " (';', 8762),\n",
       " ('&', 8698),\n",
       " ('lt', 8694),\n",
       " ('on', 8556),\n",
       " ('from', 7986)]"
      ]
     },
     "execution_count": 4,
     "metadata": {},
     "output_type": "execute_result"
    }
   ],
   "source": [
    "fd.most_common(26)"
   ]
  },
  {
   "cell_type": "markdown",
   "metadata": {},
   "source": [
    "### 상위 26개에 대한 plot 그래프를 그린다,"
   ]
  },
  {
   "cell_type": "code",
   "execution_count": 8,
   "metadata": {},
   "outputs": [
    {
     "data": {
      "image/png": "[encoded data removed]",
      "text/plain": [
       "<matplotlib.figure.Figure at 0x114628630>"
      ]
     },
     "metadata": {},
     "output_type": "display_data"
    }
   ],
   "source": [
    "plt.plot(range(26), [ y for x,y in fd.most_common(26)])\n",
    "plt.xticks(range(26), [ x for x,y in fd.most_common(26)])\n",
    "plt.show()"
   ]
  },
  {
   "cell_type": "code",
   "execution_count": 7,
   "metadata": {},
   "outputs": [
    {
     "name": "stdout",
     "output_type": "stream",
     "text": [
      "Help on function xticks in module matplotlib.pyplot:\n",
      "\n",
      "xticks(*args, **kwargs)\n",
      "    Get or set the *x*-limits of the current tick locations and labels.\n",
      "    \n",
      "    ::\n",
      "    \n",
      "      # return locs, labels where locs is an array of tick locations and\n",
      "      # labels is an array of tick labels.\n",
      "      locs, labels = xticks()\n",
      "    \n",
      "      # set the locations of the xticks\n",
      "      xticks( arange(6) )\n",
      "    \n",
      "      # set the locations and labels of the xticks\n",
      "      xticks( arange(5), ('Tom', 'Dick', 'Harry', 'Sally', 'Sue') )\n",
      "    \n",
      "    The keyword args, if any, are :class:`~matplotlib.text.Text`\n",
      "    properties. For example, to rotate long labels::\n",
      "    \n",
      "      xticks( arange(12), calendar.month_name[1:13], rotation=17 )\n",
      "\n"
     ]
    }
   ],
   "source": [
    "help(plt.xticks)"
   ]
  },
  {
   "cell_type": "markdown",
   "metadata": {},
   "source": [
    "## log.log  그래프를 통해서 상위 26개에 대한 그래프를 그린다.\n"
   ]
  },
  {
   "cell_type": "code",
   "execution_count": 17,
   "metadata": {},
   "outputs": [
    {
     "data": {
      "image/png": "[encoded data removed]",
      "text/plain": [
       "<matplotlib.figure.Figure at 0x114c90208>"
      ]
     },
     "metadata": {},
     "output_type": "display_data"
    }
   ],
   "source": [
    "import seaborn\n",
    "plt.loglog(range(1,27), [ y for x,y in fd.most_common(26)],basex=10)\n",
    "#plt.xticks(range(26), [ x for x,y in fd.most_common(26)])\n",
    "plt.show()"
   ]
  },
  {
   "cell_type": "markdown",
   "metadata": {},
   "source": [
    "## 빈도에 대한 그래프를 그린다."
   ]
  },
  {
   "cell_type": "code",
   "execution_count": 19,
   "metadata": {},
   "outputs": [
    {
     "data": {
      "image/png": "[encoded data removed]",
      "text/plain": [
       "<matplotlib.figure.Figure at 0x114c59358>"
      ]
     },
     "metadata": {},
     "output_type": "display_data"
    }
   ],
   "source": [
    "fd.plot(20,title = \"book1\", cumulative=True)"
   ]
  },
  {
   "cell_type": "code",
   "execution_count": 18,
   "metadata": {},
   "outputs": [
    {
     "data": {
      "image/png": "[encoded data removed]",
      "text/plain": [
       "<matplotlib.figure.Figure at 0x11468ba90>"
      ]
     },
     "metadata": {},
     "output_type": "display_data"
    }
   ],
   "source": [
    "fd.plot(20,title = \"book2\")"
   ]
  },
  {
   "cell_type": "markdown",
   "metadata": {},
   "source": [
    "# 두 비교되는 단어들이 유사도를 점검하기 "
   ]
  },
  {
   "cell_type": "code",
   "execution_count": 23,
   "metadata": {
    "collapsed": true
   },
   "outputs": [],
   "source": [
    "import nltk"
   ]
  },
  {
   "cell_type": "code",
   "execution_count": 33,
   "metadata": {},
   "outputs": [
    {
     "name": "stdout",
     "output_type": "stream",
     "text": [
      "Help on function accuracy in module nltk.metrics.scores:\n",
      "\n",
      "accuracy(reference, test)\n",
      "    Given a list of reference values and a corresponding list of test\n",
      "    values, return the fraction of corresponding values that are\n",
      "    equal.  In particular, return the fraction of indices\n",
      "    ``0<i<=len(test)`` such that ``test[i] == reference[i]``.\n",
      "    \n",
      "    :type reference: list\n",
      "    :param reference: An ordered list of reference values.\n",
      "    :type test: list\n",
      "    :param test: A list of values to compare against the corresponding\n",
      "        reference values.\n",
      "    :raise ValueError: If ``reference`` and ``length`` do not have the\n",
      "        same length.\n",
      "\n"
     ]
    }
   ],
   "source": [
    "help(nltk.accuracy)"
   ]
  },
  {
   "cell_type": "code",
   "execution_count": 29,
   "metadata": {},
   "outputs": [],
   "source": [
    "from nltk.corpus import reuters, brown\n",
    "\n",
    "trains = reuters.words()\n",
    "\n",
    "test = brown.words()"
   ]
  },
  {
   "cell_type": "markdown",
   "metadata": {},
   "source": [
    "## 두 단어의 세트의 길이는 동일해야 한다"
   ]
  },
  {
   "cell_type": "code",
   "execution_count": 32,
   "metadata": {},
   "outputs": [
    {
     "name": "stdout",
     "output_type": "stream",
     "text": [
      "0.008579976438005085\n"
     ]
    }
   ],
   "source": [
    "print(nltk.accuracy(trains[:len(test)],test))"
   ]
  },
  {
   "cell_type": "markdown",
   "metadata": {},
   "source": [
    "## 두 단어 세트의 일치도를 확인해 본다"
   ]
  },
  {
   "cell_type": "code",
   "execution_count": 35,
   "metadata": {},
   "outputs": [
    {
     "name": "stdout",
     "output_type": "stream",
     "text": [
      "Help on function precision in module nltk.metrics.scores:\n",
      "\n",
      "precision(reference, test)\n",
      "    Given a set of reference values and a set of test values, return\n",
      "    the fraction of test values that appear in the reference set.\n",
      "    In particular, return card(``reference`` intersection ``test``)/card(``test``).\n",
      "    If ``test`` is empty, then return None.\n",
      "    \n",
      "    :type reference: set\n",
      "    :param reference: A set of reference values.\n",
      "    :type test: set\n",
      "    :param test: A set of values to compare against the reference set.\n",
      "    :rtype: float or None\n",
      "\n"
     ]
    }
   ],
   "source": [
    "help(nltk.precision)"
   ]
  },
  {
   "cell_type": "code",
   "execution_count": 34,
   "metadata": {},
   "outputs": [
    {
     "data": {
      "text/plain": [
       "0.2776638064826873"
      ]
     },
     "execution_count": 34,
     "metadata": {},
     "output_type": "execute_result"
    }
   ],
   "source": [
    "trainset = set(trains)\n",
    "testset  = set(test)\n",
    "\n",
    "nltk.precision(trainset, testset)"
   ]
  },
  {
   "cell_type": "markdown",
   "metadata": {},
   "source": [
    "## 테스트 세트에 나타나는 참조 값의 비율"
   ]
  },
  {
   "cell_type": "code",
   "execution_count": 36,
   "metadata": {},
   "outputs": [
    {
     "name": "stdout",
     "output_type": "stream",
     "text": [
      "Help on function recall in module nltk.metrics.scores:\n",
      "\n",
      "recall(reference, test)\n",
      "    Given a set of reference values and a set of test values, return\n",
      "    the fraction of reference values that appear in the test set.\n",
      "    In particular, return card(``reference`` intersection ``test``)/card(``reference``).\n",
      "    If ``reference`` is empty, then return None.\n",
      "    \n",
      "    :type reference: set\n",
      "    :param reference: A set of reference values.\n",
      "    :type test: set\n",
      "    :param test: A set of values to compare against the reference set.\n",
      "    :rtype: float or None\n",
      "\n"
     ]
    }
   ],
   "source": [
    "help(nltk.recall)"
   ]
  },
  {
   "cell_type": "code",
   "execution_count": 37,
   "metadata": {},
   "outputs": [
    {
     "data": {
      "text/plain": [
       "0.3741586538461538"
      ]
     },
     "execution_count": 37,
     "metadata": {},
     "output_type": "execute_result"
    }
   ],
   "source": [
    "nltk.recall(trainset, testset)"
   ]
  },
  {
   "cell_type": "markdown",
   "metadata": {},
   "source": [
    "## f-measure는  precision과 recall의 평균입니다."
   ]
  },
  {
   "cell_type": "code",
   "execution_count": 38,
   "metadata": {},
   "outputs": [
    {
     "name": "stdout",
     "output_type": "stream",
     "text": [
      "Help on function f_measure in module nltk.metrics.scores:\n",
      "\n",
      "f_measure(reference, test, alpha=0.5)\n",
      "    Given a set of reference values and a set of test values, return\n",
      "    the f-measure of the test values, when compared against the\n",
      "    reference values.  The f-measure is the harmonic mean of the\n",
      "    ``precision`` and ``recall``, weighted by ``alpha``.  In particular,\n",
      "    given the precision *p* and recall *r* defined by:\n",
      "    \n",
      "    - *p* = card(``reference`` intersection ``test``)/card(``test``)\n",
      "    - *r* = card(``reference`` intersection ``test``)/card(``reference``)\n",
      "    \n",
      "    The f-measure is:\n",
      "    \n",
      "    - *1/(alpha/p + (1-alpha)/r)*\n",
      "    \n",
      "    If either ``reference`` or ``test`` is empty, then ``f_measure``\n",
      "    returns None.\n",
      "    \n",
      "    :type reference: set\n",
      "    :param reference: A set of reference values.\n",
      "    :type test: set\n",
      "    :param test: A set of values to compare against the reference set.\n",
      "    :rtype: float or None\n",
      "\n"
     ]
    }
   ],
   "source": [
    "help(nltk.f_measure)"
   ]
  },
  {
   "cell_type": "code",
   "execution_count": 39,
   "metadata": {},
   "outputs": [
    {
     "data": {
      "text/plain": [
       "0.3187687518559858"
      ]
     },
     "execution_count": 39,
     "metadata": {},
     "output_type": "execute_result"
    }
   ],
   "source": [
    "nltk.f_measure(trainset, testset)"
   ]
  },
  {
   "cell_type": "code",
   "execution_count": null,
   "metadata": {
    "collapsed": true
   },
   "outputs": [],
   "source": []
  }
 ],
 "metadata": {
  "kernelspec": {
   "display_name": "Python 3",
   "language": "python",
   "name": "python3"
  },
  "language_info": {
   "codemirror_mode": {
    "name": "ipython",
    "version": 3
   },
   "file_extension": ".py",
   "mimetype": "text/x-python",
   "name": "python",
   "nbconvert_exporter": "python",
   "pygments_lexer": "ipython3",
   "version": "3.6.1"
  }
 },
 "nbformat": 4,
 "nbformat_minor": 2
}
