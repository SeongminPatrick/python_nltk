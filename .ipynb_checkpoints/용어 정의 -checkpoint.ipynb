{
 "cells": [
  {
   "cell_type": "markdown",
   "metadata": {},
   "source": [
    "## Terminologies\n",
    "\n",
    "\n",
    "    English\t      한국어\t          Description\n",
    "    -------------------------------------------------\n",
    "    \n",
    "    Document\t   문서\t             -\n",
    "    Corpus\t       말뭉치\t             A set of documents\n",
    "    Token\t       토큰\t             Meaningful elements in a text such as words or phrases or symbols\n",
    "    Morphemes\t   형태소\t             Smallest meaningful unit in a language\n",
    "    POS\t           품사\t             Part-of-speech (ex: Nouns)"
   ]
  },
  {
   "cell_type": "markdown",
   "metadata": {},
   "source": [
    "# 전처리는 아래의 세부 과정으로 다시 한 번 나뉜다.\n",
    "\n",
    "    1. Load text\n",
    "    2. Tokenize text (ex: stemming, morph analyzing)\n",
    "    3. Tag tokens (ex: POS, NER)\n",
    "    4. Token(Feature) selection and/or filter/rank tokens (ex: stopword removal, TF-IDF)\n",
    "    5. ...and so on (ex: calculate word/document similarities, cluster documents)\n"
   ]
  },
  {
   "cell_type": "code",
   "execution_count": null,
   "metadata": {
    "collapsed": true
   },
   "outputs": [],
   "source": []
  }
 ],
 "metadata": {
  "kernelspec": {
   "display_name": "Python 3",
   "language": "python",
   "name": "python3"
  },
  "language_info": {
   "codemirror_mode": {
    "name": "ipython",
    "version": 3
   },
   "file_extension": ".py",
   "mimetype": "text/x-python",
   "name": "python",
   "nbconvert_exporter": "python",
   "pygments_lexer": "ipython3",
   "version": "3.6.1"
  }
 },
 "nbformat": 4,
 "nbformat_minor": 2
}
