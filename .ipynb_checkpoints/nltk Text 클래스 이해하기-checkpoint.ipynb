{
 "cells": [
  {
   "cell_type": "code",
   "execution_count": 6,
   "metadata": {
    "collapsed": true
   },
   "outputs": [],
   "source": [
    "import nltk\n",
    "import nltk.corpus"
   ]
  },
  {
   "cell_type": "markdown",
   "metadata": {},
   "source": [
    "##  Load tokens with nltk.Text()\n",
    "\n",
    "      nltk.Text()는 문서 하나를 편리하게 탐색할 수 있는 다양한 기능을 제공한다."
   ]
  },
  {
   "cell_type": "code",
   "execution_count": 3,
   "metadata": {},
   "outputs": [
    {
     "name": "stdout",
     "output_type": "stream",
     "text": [
      "<class 'nltk.text.Text'>\n",
      "<class 'type'>\n"
     ]
    }
   ],
   "source": [
    "print(nltk.Text)\n",
    "print(type(nltk.Text))"
   ]
  },
  {
   "cell_type": "code",
   "execution_count": 4,
   "metadata": {},
   "outputs": [
    {
     "data": {
      "text/plain": [
       "(object,)"
      ]
     },
     "execution_count": 4,
     "metadata": {},
     "output_type": "execute_result"
    }
   ],
   "source": [
    "nltk.text.Text.__bases__"
   ]
  },
  {
   "cell_type": "markdown",
   "metadata": {},
   "source": [
    "# Text 클래스 내부의 메소드 확인하기 "
   ]
  },
  {
   "cell_type": "code",
   "execution_count": 3,
   "metadata": {},
   "outputs": [
    {
     "name": "stdout",
     "output_type": "stream",
     "text": [
      "collocations\n",
      "common_contexts\n",
      "concordance\n",
      "count\n",
      "dispersion_plot\n",
      "findall\n",
      "generate\n",
      "index\n",
      "plot\n",
      "readability\n",
      "similar\n",
      "unicode_repr\n",
      "vocab\n"
     ]
    }
   ],
   "source": [
    "for i in dir(nltk.Text) :\n",
    "    if not i.startswith(\"_\") :\n",
    "        print(i)"
   ]
  },
  {
   "cell_type": "markdown",
   "metadata": {},
   "source": [
    "# book 모듈 내의 text 확인하기 \n"
   ]
  },
  {
   "cell_type": "code",
   "execution_count": 7,
   "metadata": {},
   "outputs": [
    {
     "name": "stdout",
     "output_type": "stream",
     "text": [
      "*** Introductory Examples for the NLTK Book ***\n",
      "Loading text1, ..., text9 and sent1, ..., sent9\n",
      "Type the name of the text or sentence to view it.\n",
      "Type: 'texts()' or 'sents()' to list the materials.\n",
      "text1: Moby Dick by Herman Melville 1851\n",
      "text2: Sense and Sensibility by Jane Austen 1811\n",
      "text3: The Book of Genesis\n",
      "text4: Inaugural Address Corpus\n",
      "text5: Chat Corpus\n",
      "text6: Monty Python and the Holy Grail\n",
      "text7: Wall Street Journal\n",
      "text8: Personals Corpus\n",
      "text9: The Man Who Was Thursday by G . K . Chesterton 1908\n"
     ]
    }
   ],
   "source": [
    "from nltk.book import *"
   ]
  },
  {
   "cell_type": "markdown",
   "metadata": {},
   "source": [
    "# 모비딕 책에 대한 것이 Text 클래스의 인스턴스로 만들어져 있다. "
   ]
  },
  {
   "cell_type": "code",
   "execution_count": 31,
   "metadata": {},
   "outputs": [
    {
     "data": {
      "text/plain": [
       "<Text: Moby Dick by Herman Melville 1851>"
      ]
     },
     "execution_count": 31,
     "metadata": {},
     "output_type": "execute_result"
    }
   ],
   "source": [
    "text1"
   ]
  },
  {
   "cell_type": "code",
   "execution_count": 9,
   "metadata": {},
   "outputs": [
    {
     "data": {
      "text/plain": [
       "nltk.text.Text"
      ]
     },
     "execution_count": 9,
     "metadata": {},
     "output_type": "execute_result"
    }
   ],
   "source": [
    "type(text1)"
   ]
  },
  {
   "cell_type": "code",
   "execution_count": 20,
   "metadata": {},
   "outputs": [
    {
     "name": "stdout",
     "output_type": "stream",
     "text": [
      "Help on method readability in module nltk.text:\n",
      "\n",
      "readability(method) method of nltk.text.Text instance\n",
      "\n"
     ]
    }
   ],
   "source": [
    "help(text1.readability)"
   ]
  },
  {
   "cell_type": "markdown",
   "metadata": {},
   "source": [
    "# 텍스트 내부에서 특정 검색하기 "
   ]
  },
  {
   "cell_type": "code",
   "execution_count": 33,
   "metadata": {},
   "outputs": [
    {
     "data": {
      "text/plain": [
       "906"
      ]
     },
     "execution_count": 33,
     "metadata": {},
     "output_type": "execute_result"
    }
   ],
   "source": [
    "text1.count(\"whale\")"
   ]
  },
  {
   "cell_type": "markdown",
   "metadata": {},
   "source": [
    "## 텍스트 내의 일치하는 문장을 출력하다."
   ]
  },
  {
   "cell_type": "code",
   "execution_count": 32,
   "metadata": {},
   "outputs": [
    {
     "name": "stdout",
     "output_type": "stream",
     "text": [
      "Displaying 25 of 1226 matches:\n",
      "s , and to teach them by what name a whale - fish is to be called in our tongue\n",
      "t which is not true .\" -- HACKLUYT \" WHALE . ... Sw . and Dan . HVAL . This ani\n",
      "ulted .\" -- WEBSTER ' S DICTIONARY \" WHALE . ... It is more immediately from th\n",
      "ISH . WAL , DUTCH . HWAL , SWEDISH . WHALE , ICELANDIC . WHALE , ENGLISH . BALE\n",
      "HWAL , SWEDISH . WHALE , ICELANDIC . WHALE , ENGLISH . BALEINE , FRENCH . BALLE\n",
      "least , take the higgledy - piggledy whale statements , however authentic , in \n",
      " dreadful gulf of this monster ' s ( whale ' s ) mouth , are immediately lost a\n",
      " patient Job .\" -- RABELAIS . \" This whale ' s liver was two cartloads .\" -- ST\n",
      " Touching that monstrous bulk of the whale or ork we have received nothing cert\n",
      " of oil will be extracted out of one whale .\" -- IBID . \" HISTORY OF LIFE AND D\n",
      "ise .\" -- KING HENRY . \" Very like a whale .\" -- HAMLET . \" Which to secure , n\n",
      "restless paine , Like as the wounded whale to shore flies thro ' the maine .\" -\n",
      ". OF SPERMA CETI AND THE SPERMA CETI WHALE . VIDE HIS V . E . \" Like Spencer ' \n",
      "t had been a sprat in the mouth of a whale .\" -- PILGRIM ' S PROGRESS . \" That \n",
      "EN ' S ANNUS MIRABILIS . \" While the whale is floating at the stern of the ship\n",
      "e ship called The Jonas - in - the - Whale . ... Some say the whale can ' t ope\n",
      " in - the - Whale . ... Some say the whale can ' t open his mouth , but that is\n",
      " masts to see whether they can see a whale , for the first discoverer has a duc\n",
      " for his pains . ... I was told of a whale taken near Shetland , that had above\n",
      "oneers told me that he caught once a whale in Spitzbergen that was white all ov\n",
      "2 , one eighty feet in length of the whale - bone kind came in , which ( as I w\n",
      "n master and kill this Sperma - ceti whale , for I could never hear of any of t\n",
      " . 1729 . \"... and the breath of the whale is frequendy attended with such an i\n",
      "ed with hoops and armed with ribs of whale .\" -- RAPE OF THE LOCK . \" If we com\n",
      "contemptible in the comparison . The whale is doubtless the largest animal in c\n"
     ]
    }
   ],
   "source": [
    "text1.concordance(\"whale\")"
   ]
  },
  {
   "cell_type": "markdown",
   "metadata": {},
   "source": [
    "## 특정 정규표현식과 매칭되는 단어를 추출한다. "
   ]
  },
  {
   "cell_type": "code",
   "execution_count": 44,
   "metadata": {},
   "outputs": [
    {
     "name": "stdout",
     "output_type": "stream",
     "text": [
      "Help on method findall in module nltk.text:\n",
      "\n",
      "findall(regexp) method of nltk.text.Text instance\n",
      "    Find instances of the regular expression in the text.\n",
      "    The text is a list of tokens, and a regexp pattern to match\n",
      "    a single token must be surrounded by angle brackets.  E.g.\n",
      "    \n",
      "    >>> print('hack'); from nltk.book import text1, text5, text9\n",
      "    hack...\n",
      "    >>> text5.findall(\"<.*><.*><bro>\")\n",
      "    you rule bro; telling you bro; u twizted bro\n",
      "    >>> text1.findall(\"<a>(<.*>)<man>\")\n",
      "    monied; nervous; dangerous; white; white; white; pious; queer; good;\n",
      "    mature; white; Cape; great; wise; wise; butterless; white; fiendish;\n",
      "    pale; furious; better; certain; complete; dismasted; younger; brave;\n",
      "    brave; brave; brave\n",
      "    >>> text9.findall(\"<th.*>{3,}\")\n",
      "    thread through those; the thought that; that the thing; the thing\n",
      "    that; that that thing; through these than through; them that the;\n",
      "    through the thick; them that they; thought that the\n",
      "    \n",
      "    :param regexp: A regular expression\n",
      "    :type regexp: str\n",
      "\n"
     ]
    }
   ],
   "source": [
    "help(text1.findall)"
   ]
  },
  {
   "cell_type": "code",
   "execution_count": 48,
   "metadata": {},
   "outputs": [
    {
     "name": "stdout",
     "output_type": "stream",
     "text": [
      "monied; nervous; dangerous; white; white; white; pious; queer; good;\n",
      "mature; white; Cape; great; wise; wise; butterless; white; fiendish;\n",
      "pale; furious; better; certain; complete; dismasted; younger; brave;\n",
      "brave; brave; brave\n"
     ]
    }
   ],
   "source": [
    "text1.findall(\"<a>(<.*>)<man>\")"
   ]
  },
  {
   "cell_type": "code",
   "execution_count": 98,
   "metadata": {},
   "outputs": [
    {
     "data": {
      "text/plain": [
       "[' nervous ']"
      ]
     },
     "execution_count": 98,
     "metadata": {},
     "output_type": "execute_result"
    }
   ],
   "source": [
    "import re\n",
    "\n",
    "re.findall(\"a(.*)man\",\"a nervous man \")"
   ]
  },
  {
   "cell_type": "markdown",
   "metadata": {},
   "source": [
    "## 문장에 있는 유사한 단어를 검색해서 보여준다."
   ]
  },
  {
   "cell_type": "code",
   "execution_count": 25,
   "metadata": {},
   "outputs": [
    {
     "name": "stdout",
     "output_type": "stream",
     "text": [
      "whale life man cry heart body world hand word english earth whales\n",
      "case eye leviathan one eyes god lord day\n"
     ]
    }
   ],
   "source": [
    "text1.similar(\"women\")"
   ]
  },
  {
   "cell_type": "markdown",
   "metadata": {},
   "source": [
    "## 특정 단어가 주어진 상황에 대해 표시한다. 단어에 대한 갯수를 늘리면 표현된 것이 더 많이 출력된다."
   ]
  },
  {
   "cell_type": "code",
   "execution_count": 36,
   "metadata": {},
   "outputs": [
    {
     "name": "stdout",
     "output_type": "stream",
     "text": [
      "Help on method common_contexts in module nltk.text:\n",
      "\n",
      "common_contexts(words, num=20) method of nltk.text.Text instance\n",
      "    Find contexts where the specified words appear; list\n",
      "    most frequent common contexts first.\n",
      "    \n",
      "    :param word: The word used to seed the similarity search\n",
      "    :type word: str\n",
      "    :param num: The number of words to generate (default=20)\n",
      "    :type num: int\n",
      "    :seealso: ContextIndex.common_contexts()\n",
      "\n"
     ]
    }
   ],
   "source": [
    "help(text1.common_contexts)"
   ]
  },
  {
   "cell_type": "code",
   "execution_count": 40,
   "metadata": {},
   "outputs": [
    {
     "name": "stdout",
     "output_type": "stream",
     "text": [
      "a_fish hackluyt_sw dictionary_it swedish_icelandic icelandic_english\n",
      "piggledy_statements s_s this_s the_or one_ibid a_hamlet wounded_to\n",
      "ceti_vide a_pilgrim the_is the_some the_can a_for a_taken a_in\n",
      "the_bone ceti_for of_rape dead_which the_in spermacetti_found\n",
      "s_memorial nantucket_fishery great_stranded are_and a_a a_is the_s\n",
      "spermaceti_fishery mightier_than a_s right_answered a_narrative\n",
      "the_ship sperm_in the_as one_amounted the_shakes sperm_rolls\n",
      "sperm_should sperm_the sperm_is true_greenland right_in the_tribe\n",
      "that_now a_which the_fell the_and the_mcculloch the_the a_ship\n",
      "a_voyager a_boat the_fisherman sperm_close the_killer the_nantucket\n",
      "old_mid sea_song great_himself the_these american_was\n",
      "exasperated_purposing a_years right_s a_of the_lance great_fishery\n",
      "a_on sperm_on the_arched the_did the_shall mighty_which the_shoots\n",
      "the_shipmates the_grounded the_came wandering_ships big_look\n",
      "exasperated_in sperm_inserted right_planted a_lost a_young\n",
      "particular_though live_s and_hunters accursed_he the_boats one_eye\n",
      "him_e dad_dead good_hunter\n"
     ]
    }
   ],
   "source": [
    "text1.common_contexts([\"whale\"],num=100)"
   ]
  },
  {
   "cell_type": "markdown",
   "metadata": {},
   "source": [
    "## 단어들에 대한 분산 정도를 표시한다."
   ]
  },
  {
   "cell_type": "code",
   "execution_count": 41,
   "metadata": {},
   "outputs": [
    {
     "data": {
      "image/png": "[encoded data removed]",
      "text/plain": [
       "<matplotlib.figure.Figure at 0x122846f98>"
      ]
     },
     "metadata": {},
     "output_type": "display_data"
    }
   ],
   "source": [
    "text1.dispersion_plot([\"fish\", \"hunter\", \"whale\"])"
   ]
  },
  {
   "cell_type": "markdown",
   "metadata": {},
   "source": [
    "## 관련된 단어들에 대한 재배치한 것을 출력한다. "
   ]
  },
  {
   "cell_type": "code",
   "execution_count": 51,
   "metadata": {},
   "outputs": [
    {
     "name": "stdout",
     "output_type": "stream",
     "text": [
      "Help on method collocations in module nltk.text:\n",
      "\n",
      "collocations(num=20, window_size=2) method of nltk.text.Text instance\n",
      "    Print collocations derived from the text, ignoring stopwords.\n",
      "    \n",
      "    :seealso: find_collocations\n",
      "    :param num: The maximum number of collocations to print.\n",
      "    :type num: int\n",
      "    :param window_size: The number of tokens spanned by a collocation (default=2)\n",
      "    :type window_size: int\n",
      "\n"
     ]
    }
   ],
   "source": [
    "help(text1.collocations)"
   ]
  },
  {
   "cell_type": "code",
   "execution_count": 52,
   "metadata": {},
   "outputs": [
    {
     "name": "stdout",
     "output_type": "stream",
     "text": [
      "Sperm Whale; Moby Dick; White Whale; old man; Captain Ahab; sperm\n",
      "whale; Right Whale; Captain Peleg; New Bedford; Cape Horn; cried Ahab;\n",
      "years ago; lower jaw; never mind; Father Mapple; cried Stubb; chief\n",
      "mate; white whale; ivory leg; one hand; thou art; would fain; well\n",
      "known; cried Starbuck; forty years; 000 lbs; Good Hope; Captain\n",
      "Bildad; thus far; must needs; Samuel Enderby; New Zealand; seven\n",
      "hundred; Heidelburgh Tun; whaling voyage; said Stubb; would seem; one\n",
      "side; dost thou; three years; South Sea; every one; three days; good\n",
      "deal; something like; ever since; upper part; present day; steering\n",
      "oar; Deacon Deuteronomy\n"
     ]
    }
   ],
   "source": [
    "text1.collocations(50)"
   ]
  },
  {
   "cell_type": "markdown",
   "metadata": {},
   "source": [
    "##  단어들에 대한 빈도 분포를 가져오기"
   ]
  },
  {
   "cell_type": "code",
   "execution_count": 74,
   "metadata": {
    "collapsed": true
   },
   "outputs": [],
   "source": [
    "a = text1.vocab()"
   ]
  },
  {
   "cell_type": "code",
   "execution_count": 75,
   "metadata": {},
   "outputs": [
    {
     "data": {
      "text/plain": [
       "nltk.probability.FreqDist"
      ]
     },
     "execution_count": 75,
     "metadata": {},
     "output_type": "execute_result"
    }
   ],
   "source": [
    "type(a)"
   ]
  },
  {
   "cell_type": "code",
   "execution_count": 76,
   "metadata": {},
   "outputs": [
    {
     "data": {
      "text/plain": [
       "[(',', 18713),\n",
       " ('the', 13721),\n",
       " ('.', 6862),\n",
       " ('of', 6536),\n",
       " ('and', 6024),\n",
       " ('a', 4569),\n",
       " ('to', 4542),\n",
       " (';', 4072),\n",
       " ('in', 3916),\n",
       " ('that', 2982)]"
      ]
     },
     "execution_count": 76,
     "metadata": {},
     "output_type": "execute_result"
    }
   ],
   "source": [
    "a.most_common(10)"
   ]
  },
  {
   "cell_type": "markdown",
   "metadata": {},
   "source": [
    "## 실제 그래프를 그릴 때 누적빈도수로 그렸다. "
   ]
  },
  {
   "cell_type": "code",
   "execution_count": 80,
   "metadata": {},
   "outputs": [
    {
     "name": "stdout",
     "output_type": "stream",
     "text": [
      "Help on method plot in module nltk.probability:\n",
      "\n",
      "plot(*args, **kwargs) method of nltk.probability.FreqDist instance\n",
      "    Plot samples from the frequency distribution\n",
      "    displaying the most frequent sample first.  If an integer\n",
      "    parameter is supplied, stop after this many samples have been\n",
      "    plotted.  For a cumulative plot, specify cumulative=True.\n",
      "    (Requires Matplotlib to be installed.)\n",
      "    \n",
      "    :param title: The title for the graph\n",
      "    :type title: str\n",
      "    :param cumulative: A flag to specify whether the plot is cumulative (default = False)\n",
      "    :type title: bool\n",
      "\n"
     ]
    }
   ],
   "source": [
    "help(a.plot)"
   ]
  },
  {
   "cell_type": "code",
   "execution_count": 81,
   "metadata": {},
   "outputs": [
    {
     "data": {
      "image/png": "[encoded data removed]",
      "text/plain": [
       "<matplotlib.figure.Figure at 0x12371eb70>"
      ]
     },
     "metadata": {},
     "output_type": "display_data"
    }
   ],
   "source": [
    "a.plot(30,title = \"book1\", cumulative=True)"
   ]
  },
  {
   "cell_type": "markdown",
   "metadata": {},
   "source": [
    "# 특정 문장을 토큰화하고 이를 Text로 변환해서 처리하기"
   ]
  },
  {
   "cell_type": "code",
   "execution_count": 82,
   "metadata": {
    "collapsed": true
   },
   "outputs": [],
   "source": [
    "s = '''Plot samples from the frequency distribution\n",
    "    displaying the most frequent sample first.  If an integer\n",
    "    parameter is supplied, stop after this many samples have been\n",
    "    plotted. '''"
   ]
  },
  {
   "cell_type": "code",
   "execution_count": 85,
   "metadata": {},
   "outputs": [
    {
     "name": "stdout",
     "output_type": "stream",
     "text": [
      "['Plot', 'samples', 'from', 'the', 'frequency', 'distribution', 'displaying', 'the', 'most', 'frequent', 'sample', 'first', '.', 'If', 'an', 'integer', 'parameter', 'is', 'supplied', ',', 'stop', 'after', 'this', 'many', 'samples', 'have', 'been', 'plotted', '.']\n"
     ]
    }
   ],
   "source": [
    "import nltk\n",
    "\n",
    "token = nltk.tokenize.word_tokenize(s)\n",
    "\n",
    "print(token)"
   ]
  },
  {
   "cell_type": "code",
   "execution_count": 86,
   "metadata": {},
   "outputs": [
    {
     "name": "stdout",
     "output_type": "stream",
     "text": [
      "<Text: Plot samples from the frequency distribution displaying the...>\n"
     ]
    }
   ],
   "source": [
    "tt = nltk.Text(token)\n",
    "\n",
    "print(tt)"
   ]
  },
  {
   "cell_type": "code",
   "execution_count": 87,
   "metadata": {
    "collapsed": true
   },
   "outputs": [],
   "source": [
    "fd = tt.vocab()\n"
   ]
  },
  {
   "cell_type": "code",
   "execution_count": 92,
   "metadata": {},
   "outputs": [
    {
     "data": {
      "text/plain": [
       "[('samples', 2),\n",
       " ('the', 2),\n",
       " ('.', 2),\n",
       " ('Plot', 1),\n",
       " ('from', 1),\n",
       " ('frequency', 1),\n",
       " ('distribution', 1),\n",
       " ('displaying', 1),\n",
       " ('most', 1),\n",
       " ('frequent', 1),\n",
       " ('sample', 1),\n",
       " ('first', 1),\n",
       " ('If', 1),\n",
       " ('an', 1),\n",
       " ('integer', 1),\n",
       " ('parameter', 1),\n",
       " ('is', 1),\n",
       " ('supplied', 1),\n",
       " (',', 1),\n",
       " ('stop', 1),\n",
       " ('after', 1),\n",
       " ('this', 1),\n",
       " ('many', 1),\n",
       " ('have', 1),\n",
       " ('been', 1),\n",
       " ('plotted', 1)]"
      ]
     },
     "execution_count": 92,
     "metadata": {},
     "output_type": "execute_result"
    }
   ],
   "source": [
    "fd.most_common()"
   ]
  },
  {
   "cell_type": "markdown",
   "metadata": {},
   "source": [
    "##  FreqDist 인스턴스 내의 단어들을 추출해서 리스트로 보여준다.\n",
    "\n"
   ]
  },
  {
   "cell_type": "code",
   "execution_count": 91,
   "metadata": {},
   "outputs": [
    {
     "name": "stdout",
     "output_type": "stream",
     "text": [
      "Help on method hapaxes in module nltk.probability:\n",
      "\n",
      "hapaxes() method of nltk.probability.FreqDist instance\n",
      "    Return a list of all samples that occur once (hapax legomena)\n",
      "    \n",
      "    :rtype: list\n",
      "\n"
     ]
    }
   ],
   "source": [
    "help(fd.hapaxes)"
   ]
  },
  {
   "cell_type": "code",
   "execution_count": 89,
   "metadata": {},
   "outputs": [
    {
     "name": "stdout",
     "output_type": "stream",
     "text": [
      "['Plot', 'from', 'frequency', 'distribution', 'displaying', 'most', 'frequent', 'sample', 'first', 'If', 'an', 'integer', 'parameter', 'is', 'supplied', ',', 'stop', 'after', 'this', 'many', 'have', 'been', 'plotted']\n"
     ]
    }
   ],
   "source": [
    "s = fd.hapaxes()\n",
    "\n",
    "print(s)"
   ]
  },
  {
   "cell_type": "code",
   "execution_count": null,
   "metadata": {
    "collapsed": true
   },
   "outputs": [],
   "source": []
  }
 ],
 "metadata": {
  "kernelspec": {
   "display_name": "Python 3",
   "language": "python",
   "name": "python3"
  },
  "language_info": {
   "codemirror_mode": {
    "name": "ipython",
    "version": 3
   },
   "file_extension": ".py",
   "mimetype": "text/x-python",
   "name": "python",
   "nbconvert_exporter": "python",
   "pygments_lexer": "ipython3",
   "version": "3.6.1"
  }
 },
 "nbformat": 4,
 "nbformat_minor": 2
}
